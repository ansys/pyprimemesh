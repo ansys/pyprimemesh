{
  "cells": [
    {
      "cell_type": "markdown",
      "metadata": {},
      "source": [
        "\n\n# Meshing a Pipe T-Section for Structural Thermal and Fluid Flow\n\n**Summary**: This example demonstrates how to mesh a pipe T-section for both fluid\nand structural thermal simulation.\n\n\n## Objective\n\nIn this example, you can mesh the solids of a pipe T-section for a\nstructural thermal analysis using tetrahedral elements and use the\nwrapper to extract the fluid domain and mesh using polyhedral cells with\nprismatic boundary layers.\n\n.. figure:: ../../../images/pipe_tee.png\n   :align: center\n   :width: 800\n\n   **Thermal structural and fluid flow meshes**\n\n## Procedure\n\n-   Launch Ansys Prime Server instance and connect PyPrimeMesh client.\n-   Read CAD geometry.\n-   Mesh for structural thermal analysis.\n-   Write mesh for structural thermal analysis.\n-   Extract fluid by wrapping.\n-   Mesh with polyhedral and prisms.\n-   Write mesh for fluid simulation.\n"
      ]
    },
    {
      "cell_type": "markdown",
      "metadata": {},
      "source": [
        "## Launch Ansys Prime Server\n. Import all necessary modules.\n\n"
      ]
    },
    {
      "cell_type": "code",
      "execution_count": null,
      "metadata": {
        "collapsed": false
      },
      "outputs": [],
      "source": [
        "# . Launch Ansys Prime Server instance and connect client.\n\n# . Get the client model and instantiate meshing utilities from lucid class.\n\nimport os\nimport tempfile\n\nimport ansys.meshing.prime.graphics as graphics\nfrom ansys.meshing import prime\nfrom ansys.meshing.prime import lucid\n\nprime_client = prime.launch_prime()\nmodel = prime_client.model\nmesh_util = lucid.Mesh(model)"
      ]
    },
    {
      "cell_type": "markdown",
      "metadata": {},
      "source": [
        "## Read CAD Geometry\n. Download example FMD geometry file.\n\n"
      ]
    },
    {
      "cell_type": "code",
      "execution_count": null,
      "metadata": {
        "collapsed": false
      },
      "outputs": [],
      "source": [
        "# FMD format is exported from SpaceClaim and is compatible with Linux.\n\n# . Read and display the geometry file.\n\n# The file contains several unmeshed parts as you would get after you imported from CAD.\n\nfile_name = prime.examples.download_pipe_tee_fmd()\nmesh_util.read(file_name)\n\ndisplay = graphics.Graphics(model)\ndisplay()\n\nprint(model)"
      ]
    },
    {
      "cell_type": "markdown",
      "metadata": {},
      "source": [
        "## Mesh for Structural\n. Surface mesh using curvature sizing.\n\n"
      ]
    },
    {
      "cell_type": "code",
      "execution_count": null,
      "metadata": {
        "collapsed": false
      },
      "outputs": [],
      "source": [
        "# . Volume mesh with tetrahedral elements.\n\n# . Delete unwanted capping surface geometries by deleting\n# parts that do not have any volume zones.\n\n# . Display structural thermal mesh ready for export.\n\nmesh_util.surface_mesh(min_size=2.5, max_size=10)\nmesh_util.volume_mesh()\n\ntoDelete = [part.id for part in model.parts if not part.get_volume_zones()]\n\nif toDelete:\n    model.delete_parts(toDelete)\n\ndisplay = graphics.Graphics(model)\ndisplay()"
      ]
    },
    {
      "cell_type": "markdown",
      "metadata": {},
      "source": [
        "## Write Structural Mesh\nLabels are exported to CDB as collections for\napplying load boundary conditions in the solver.\n\n"
      ]
    },
    {
      "cell_type": "code",
      "execution_count": null,
      "metadata": {
        "collapsed": false
      },
      "outputs": [],
      "source": [
        "with tempfile.TemporaryDirectory() as temp_folder:\n    structural_mesh = os.path.join(temp_folder, \"pipe_tee.cdb\")\n    mesh_util.write(structural_mesh)\n    print(\"\\nExported Structural Mesh: \", structural_mesh)"
      ]
    },
    {
      "cell_type": "markdown",
      "metadata": {},
      "source": [
        "## Extract Fluid by Wrapping\nYou can deal with the small internal diameter change between flanges in several ways:\n\n * Connect the geometry to extract a volume and refine the\n   mesh around this detail to capture.\n * Modify the geometry to remove the feature.\n * Wrap to extract the internal flow volume and walk over the feature.\n\nHere, you will choose to wrap and walk over these features.\n\n. Read in the geometry again.\n\n"
      ]
    },
    {
      "cell_type": "code",
      "execution_count": null,
      "metadata": {
        "collapsed": false
      },
      "outputs": [],
      "source": [
        "# . Use a constant size wrap to walk over the diameter change\n# feature and extract the largest internal volume as the fluid.\n\n# By default, the wrap uses all parts as input and delete the input\n# geometry after wrapping unless keep_input is set as True.\n# When displaying, you can avoid displaying unnecessary edge zones.\n\nmesh_util.read(file_name)\n\nwrap = mesh_util.wrap(min_size=6, region_extract=prime.WrapRegion.LARGESTINTERNAL)\n\nprint(model)\n\ndisplay()"
      ]
    },
    {
      "cell_type": "markdown",
      "metadata": {},
      "source": [
        "## Volume Mesh Fluid\n. Create zones for each label to be used for boundary conditions definitions.\n\n"
      ]
    },
    {
      "cell_type": "code",
      "execution_count": null,
      "metadata": {
        "collapsed": false
      },
      "outputs": [],
      "source": [
        "# . Volume mesh with prism polyhedral not growing prisms from inlets and outlets.\n\n# . Visualize the generated volume mesh.\n# You can clearly see the prism layers that were specified by the Prism control.\n\n# set global sizing\nparams = prime.GlobalSizingParams(model, min=6, max=50)\nmodel.set_global_sizing_params(params)\n\nmesh_util.create_zones_from_labels(\"outlet_main,in1_inlet,in2_inlet\")\n\nmesh_util.volume_mesh(\n    prism_layers=5,\n    prism_surface_expression=\"* !*inlet* !*outlet*\",\n    volume_fill_type=prime.VolumeFillType.POLY,\n)\n\nprint(model)\ndisplay(update=True, scope=prime.ScopeDefinition(model=model, label_expression=\"* !*__*\"))"
      ]
    },
    {
      "cell_type": "markdown",
      "metadata": {},
      "source": [
        "## Write Fluid Mesh\nWrite a MSH file for the Fluent solver.\n\n"
      ]
    },
    {
      "cell_type": "code",
      "execution_count": null,
      "metadata": {
        "collapsed": false
      },
      "outputs": [],
      "source": [
        "with tempfile.TemporaryDirectory() as temp_folder:\n    fluid_mesh = os.path.join(temp_folder, \"pipe_tee.msh\")\n    mesh_util.write(fluid_mesh)\n    assert os.path.exists(fluid_mesh)\n    print(\"\\nExported Fluid Mesh: \", fluid_mesh)"
      ]
    },
    {
      "cell_type": "markdown",
      "metadata": {},
      "source": [
        "## Exit PyPrimeMesh\n\n"
      ]
    },
    {
      "cell_type": "code",
      "execution_count": null,
      "metadata": {
        "collapsed": false
      },
      "outputs": [],
      "source": [
        "prime_client.exit()"
      ]
    }
  ],
  "metadata": {
    "kernelspec": {
      "display_name": "Python 3",
      "language": "python",
      "name": "python3"
    },
    "language_info": {
      "codemirror_mode": {
        "name": "ipython",
        "version": 3
      },
      "file_extension": ".py",
      "mimetype": "text/x-python",
      "name": "python",
      "nbconvert_exporter": "python",
      "pygments_lexer": "ipython3",
      "version": "3.10.11"
    }
  },
  "nbformat": 4,
  "nbformat_minor": 0
}