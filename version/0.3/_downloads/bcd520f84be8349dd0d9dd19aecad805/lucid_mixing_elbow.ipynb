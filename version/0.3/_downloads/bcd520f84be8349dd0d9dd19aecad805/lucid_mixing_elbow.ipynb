{
  "cells": [
    {
      "cell_type": "markdown",
      "metadata": {},
      "source": [
        "\n\n# Meshing a Mixing Elbow for a Flow Analysis\n\n**Summary**: This example illustrates how to mesh a mixing elbow for a flow analysis.\n\n## Objective\n\nIn this example, you can mesh a mixing elbow with polyhedral elements and wall boundary\nlayer refinement. you use several meshing utilities available in the lucid class for\nconvenience and ease.\n\n<img src=\"file://../../../images/elbow.png\" align=\"center\" width=\"400\" alt=\"Mixing elbow mesh.\">\n\n## Procedure\n* Launch Ansys Prime Server and instantiate meshing utilities from lucid class\n* Import geometry and create face zones from labels imported from geometry.\n* Surface mesh geometry with curvature sizing.\n* Volume mesh with polyhedral elements and boundary layer refinement.\n* Print statistics on generated mesh.\n* Write a cas file for use in the Fluent solver.\n* Exit the PyPrimeMesh session.\n"
      ]
    },
    {
      "cell_type": "markdown",
      "metadata": {},
      "source": [
        "## Launch Ansys Prime Server\n. Import all necessary modules.\n\n"
      ]
    },
    {
      "cell_type": "code",
      "execution_count": null,
      "metadata": {
        "collapsed": false
      },
      "outputs": [],
      "source": [
        "# . Launch an instance of Ansys Prime Server.\n\n# . Connect PyPrimeMesh client and get the model.\n\n# . Instantiate meshing utilities from Lucid class.\n\nimport os\nimport tempfile\n\nfrom ansys.meshing import prime\nfrom ansys.meshing.prime.graphics import Graphics\n\nprime_client = prime.launch_prime()\nmodel = prime_client.model\nmesh_util = prime.lucid.Mesh(model=model)"
      ]
    },
    {
      "cell_type": "markdown",
      "metadata": {},
      "source": [
        "## Import Geometry\n. Download the elbow geometry file (.fmd file exported by SpaceClaim).\n\n"
      ]
    },
    {
      "cell_type": "code",
      "execution_count": null,
      "metadata": {
        "collapsed": false
      },
      "outputs": [],
      "source": [
        "# . Import geometry.\n\n# . Create face zones from labels imported from geometry for use in Fluent solver.\n\nmixing_elbow = prime.examples.download_elbow_fmd()\nmesh_util.read(file_name=mixing_elbow)\nmesh_util.create_zones_from_labels(\"inlet,outlet\")"
      ]
    },
    {
      "cell_type": "markdown",
      "metadata": {},
      "source": [
        "## Surface Mesh\n. Surface mesh the geometry setting min and max sizing\nthat will be used for curvature refinement.\n\n"
      ]
    },
    {
      "cell_type": "code",
      "execution_count": null,
      "metadata": {
        "collapsed": false
      },
      "outputs": [],
      "source": [
        "mesh_util.surface_mesh(min_size=5, max_size=20)"
      ]
    },
    {
      "cell_type": "markdown",
      "metadata": {},
      "source": [
        "## Volume Mesh\n. Volume mesh with polyhedral elements and boundary layer refinement.\n\n"
      ]
    },
    {
      "cell_type": "code",
      "execution_count": null,
      "metadata": {
        "collapsed": false
      },
      "outputs": [],
      "source": [
        "# . Fill the volume with polyhedral and prism mesh\n# specifying location and number of layers for prisms.\n\n# Expressions are used to define the surfaces to have prisms grown\n# where \"* !inlet !outlet\" states \"all not inlet or outlet\".\n\nmesh_util.volume_mesh(\n    volume_fill_type=prime.VolumeFillType.POLY,\n    prism_surface_expression=\"* !inlet !outlet\",\n    prism_layers=3,\n)\n\n# Display the mesh\ndisplay = Graphics(model=model)\ndisplay()"
      ]
    },
    {
      "cell_type": "markdown",
      "metadata": {},
      "source": [
        "## Print Mesh Statistics\n\n"
      ]
    },
    {
      "cell_type": "code",
      "execution_count": null,
      "metadata": {
        "collapsed": false
      },
      "outputs": [],
      "source": [
        "# Get meshed part\npart = model.get_part_by_name(\"flow_volume\")\n\n# Get statistics on the mesh\npart_summary_res = part.get_summary(prime.PartSummaryParams(model=model))\n\n# Get element quality on all parts in the model\nsearch = prime.VolumeSearch(model=model)\nparams = prime.VolumeQualitySummaryParams(\n    model=model,\n    scope=prime.ScopeDefinition(model=model, part_expression=\"*\"),\n    cell_quality_measures=[prime.CellQualityMeasure.SKEWNESS],\n    quality_limit=[0.95],\n)\nresults = search.get_volume_quality_summary(params=params)\n\n# Print statistics on meshed part\nprint(part_summary_res)\nprint(\"\\nMaximum skewness: \", results.quality_results_part[0].max_quality)"
      ]
    },
    {
      "cell_type": "markdown",
      "metadata": {},
      "source": [
        "## Write Mesh\nWrite a cas file for use in the Fluent solver.\n\n"
      ]
    },
    {
      "cell_type": "code",
      "execution_count": null,
      "metadata": {
        "collapsed": false
      },
      "outputs": [],
      "source": [
        "with tempfile.TemporaryDirectory() as temp_folder:\n    mesh_file = os.path.join(temp_folder, \"mixing_elbow.cas\")\n    mesh_util.write(mesh_file)\n    assert os.path.exists(mesh_file)\n    print(\"\\nExported file:\\n\", mesh_file)"
      ]
    },
    {
      "cell_type": "markdown",
      "metadata": {},
      "source": [
        "## Exit PyPrimeMesh\n\n"
      ]
    },
    {
      "cell_type": "code",
      "execution_count": null,
      "metadata": {
        "collapsed": false
      },
      "outputs": [],
      "source": [
        "prime_client.exit()"
      ]
    }
  ],
  "metadata": {
    "kernelspec": {
      "display_name": "Python 3",
      "language": "python",
      "name": "python3"
    },
    "language_info": {
      "codemirror_mode": {
        "name": "ipython",
        "version": 3
      },
      "file_extension": ".py",
      "mimetype": "text/x-python",
      "name": "python",
      "nbconvert_exporter": "python",
      "pygments_lexer": "ipython3",
      "version": "3.10.11"
    }
  },
  "nbformat": 4,
  "nbformat_minor": 0
}