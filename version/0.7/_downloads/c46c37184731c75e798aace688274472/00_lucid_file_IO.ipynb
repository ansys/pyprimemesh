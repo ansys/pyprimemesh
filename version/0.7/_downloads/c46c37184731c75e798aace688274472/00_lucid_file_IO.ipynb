{
  "cells": [
    {
      "cell_type": "markdown",
      "metadata": {},
      "source": [
        "\n\n# Convert data when importing and exporting mesh and CAD formats\n\n**Summary**: This example shows how mesh and geometry formats are converted\nduring import and export.\n\n## Objective\n\nThe objective is to illustrate how data is converted and passed during import\nand export of mesh and geometry.\n\n\n<img src=\"file://../../../images/part_type_new.png\" align=\"center\" width=\"800\" alt=\"Part Structure\">\n\n\n## Procedure\n#. Launch an Ansys Prime Server instance.\n#. Instantiate the meshing utilities from the ``lucid`` class.\n#. Import CAD geometry and review the imported entities.\n#. Generate surface mesh with a constant mesh size of 2mm.\n#. Generate volume mesh using tetrahedral elements and default settings .\n#. Review the entities to be exported to solvers.\n#. Export the mesh file as pmdat, cdb and cas format.\n#. Import the created solver files to review the entities as they are coming from the solvers.\n#. Exit the PyPrimeMesh session.\n"
      ]
    },
    {
      "cell_type": "markdown",
      "metadata": {},
      "source": [
        "## Launch Ansys Prime Server\nImport all necessary modules and\nlaunch an instance of Ansys Prime Server.\nConnect the PyPrimeMesh client and get the model.\nInstantiate meshing utilities from the ``lucid`` class.\n\n"
      ]
    },
    {
      "cell_type": "code",
      "execution_count": null,
      "metadata": {
        "collapsed": false
      },
      "outputs": [],
      "source": [
        "import os\nimport tempfile\n\nimport ansys.meshing.prime as prime\nfrom ansys.meshing.prime.graphics.plotter import PrimePlotter\n\nprime_client = prime.launch_prime()\nmodel = prime_client.model\nmesh_util = prime.lucid.Mesh(model=model)"
      ]
    },
    {
      "cell_type": "markdown",
      "metadata": {},
      "source": [
        "## Import geometry\nDownload the CAD file \u201cpyprime_block_import.fmd\u201d and import its geometry\ninto PyPrimeMesh.\n\nDisplay part details by printing the model. The TopoPart\u2019s\nname from model details is **pyprime_block_import**.\n\nAfter import of CAD model, within the topopart the facets from the CAD\nexists in the form of geom data. This can be seen in the image below.\n\n<img src=\"file://../../../images/00_after_cad_import.png\" align=\"center\" width=\"800\" alt=\"TopoPart after import of CAD file \u201cpyprime_block_import.fmd\u201d.\">\n\nThe topology consists of the following TopoEntities , they are TopoEdges, TopoFaces\nand TopoVolumes.\n\n* TopoEdge represent the curves/edges present in the CAD.\n  In this case there are **17 edges** present in SpaceClaim are imported\n  as **17 TopoEdges**.\n\n* TopoFace represent the surfaces/faces present in the CAD.\n  The **8 CAD Faces** present in SpaceClaim are imported as **8 Topofaces** in\n  PyPrimeMesh.\n\n* TopoVolume represent the solid volumes present in the CAD.\n  Since there is only **one solid body** in SpaceClaim, this is imported as **one Topovolume**\n  in PyPrimeMesh.\n\nNamed selections or groups in the CAD become labels after import. In this example ,\nthe Named Selection / Group named **my_group** in Spaceclaim is imported as a label\nin PyPrimeMesh.\n\nAfter CAD import the solid body, surface body or an edge body  present in SCDM would be defined\nas Volume Zones, Face Zones and Edge Zones in PyPrimeMesh. In the CAD model , there exist a\n**single solid body named \u201csolid\u201d** which after import becomes as a **Volume Zone named solid**.\n\n"
      ]
    },
    {
      "cell_type": "code",
      "execution_count": null,
      "metadata": {
        "collapsed": false
      },
      "outputs": [],
      "source": [
        "mesh_util.read(file_name=prime.examples.download_block_model_fmd())\n# mesh_util.read(file_name=prime.examples.download_block_model_scdoc())\nprint(model)\ndisplay = PrimePlotter()\ndisplay.plot(model)\ndisplay.show()"
      ]
    },
    {
      "cell_type": "markdown",
      "metadata": {},
      "source": [
        "## Generate Mesh\nThe topo part currently has no mesh associated with it and contains only\ngeometry.\n\nUsing the Lucid API ``surface_mesh``, users can generate a conformal mesh on the topofaces.\nA conformal mesh with a constant mesh size of 2mm is generated. After mesh generation, the\nmesh data is available within the TopoPart.\n\nThis can be seen in the image below\n\n<img src=\"file://../../../images/00_after_mesh_generation.png\" align=\"center\" width=\"800\" alt=\"TopoPart after mesh generation.\">\n\nThe mesh for a group of topo faces labeled \u201cmy_group\u201d is displayed by defining the\nlabel expression in the display scope. The Volume Mesh is generated keeping the volume fill\nas the default meshing algorithms.\n\n"
      ]
    },
    {
      "cell_type": "code",
      "execution_count": null,
      "metadata": {
        "collapsed": false
      },
      "outputs": [],
      "source": [
        "mesh_util.surface_mesh(min_size=2.0)\ndisplay = PrimePlotter()\ndisplay.plot(model, update=True)\ndisplay.show()\n\npart = model.get_part_by_name(\"pyprime_block_import\")\n\ndisplay = PrimePlotter()\ndisplay.plot(model, prime.ScopeDefinition(model, label_expression=\"my_group\"))\ndisplay.show()\n\nmesh_util.volume_mesh()"
      ]
    },
    {
      "cell_type": "markdown",
      "metadata": {},
      "source": [
        "## Export mesh as PyPrimeMesh (.pmdat) native format mesh file\nPyPrimeMesh allows user to export mesh in its native format name pmdat.\nThis configuration allows retaining the topology data along with mesh data.\n\n\n"
      ]
    },
    {
      "cell_type": "code",
      "execution_count": null,
      "metadata": {
        "collapsed": false
      },
      "outputs": [],
      "source": [
        "temp_folder = tempfile.TemporaryDirectory()\nmesh_file_pmdat = os.path.join(temp_folder.name, \"pyprime_block_mesh.pmdat\")\nmesh_util.write(mesh_file_pmdat)\nassert os.path.exists(mesh_file_pmdat)\nprint(\"\\nExported file:\\n\", mesh_file_pmdat)"
      ]
    },
    {
      "cell_type": "markdown",
      "metadata": {},
      "source": [
        "## Export mesh as Ansys MAPDL (.cdb) format mesh file\nPyPrimeMesh allows export of mesh as Ansys MAPDL (.cdb) format mesh file. While exporting\nthe mesh to Ansys MAPDL, the labels present in session are converted to components\ncontaining nodes.\n\n\n"
      ]
    },
    {
      "cell_type": "code",
      "execution_count": null,
      "metadata": {
        "collapsed": false
      },
      "outputs": [],
      "source": [
        "mesh_file_cdb = os.path.join(temp_folder.name, \"pyprime_block_mesh.cdb\")\nmesh_util.write(mesh_file_cdb)\nassert os.path.exists(mesh_file_cdb)\nprint(\"\\nExported file:\\n\", mesh_file_cdb)"
      ]
    },
    {
      "cell_type": "markdown",
      "metadata": {},
      "source": [
        "## Export mesh Ansys Fluent (CAS) format mesh file\nZones in PyPrimeMesh can be defined as a collection of either topo or zonelet entities that\nwe can assign properties to in a solver when exported as mesh , for example \"if the user\nwishes to assign a material to a region of the model they can define a volume zone for\nmultiple topo volumes or cell zonelets so they can apply the property.\n\nHence while exporting the mesh as (MSH or CAS) file to the Fluent solver, the\nboundary conditions for the zones needs to be defined. For this reason the topo\nentities / zonelets associated with a labels are converted to volume/face/edge zones\nrespectively.\n\nThe property of a zone is that a zonelet or TopoEntity can only be present in a single zone.\nThe topo entities / zonelets that are not associated with their respective zones types are\nmerged together during export to Fluent formats. The topology data present is removed\nautomatically when export to Fluent(MSH or CAS) formats.\n\n\n"
      ]
    },
    {
      "cell_type": "code",
      "execution_count": null,
      "metadata": {
        "collapsed": false
      },
      "outputs": [],
      "source": [
        "mesh_util.create_zones_from_labels(\"my_group\")\nprint(model)\n\n# Export as Fluent (*.cas) format mesh file\nmesh_file_cas = os.path.join(temp_folder.name, \"pyprime_block_mesh.cas\")\nmesh_util.write(mesh_file_cas)\nassert os.path.exists(mesh_file_cas)\nprint(\"\\nExported file:\\n\", mesh_file_cas)"
      ]
    },
    {
      "cell_type": "markdown",
      "metadata": {},
      "source": [
        "## Reading Ansys PyPrimeMesh native mesh file (pmdat)\nRead the exported PyPrimeMesh(pmdat) native mesh format file, it is observed that\npart topology contains both geom data as well as mesh data. This is seen in the image below\n\n<img src=\"file://../../../images/00_import_pmdat.png\" align=\"center\" width=\"800\" alt=\"TopoPart after reading mesh part.\">\n\nMeshed zonelets (that contain the mesh data) are only created once the topo part\nis converted to a mesh part by deleting the topo entities. Here , while deleting the topology\nwe are deleting the geom data (face) and retaining the mesh data for solve purpose.\nWhen deleting the topoogy , the TopoPart is converted to MeshPart and the topo entities\nare converted to their respective zonelet type in MeshPart, this is shown as follows;\n\n* **01 TopoVolumes ->  01 Cell Zonelets**\n* **08 TopoFaces ->  08 Face Zonelets**\n* **17 TopoEdges -> 17 Edge Zonelets**\n\nThe zones association with topoentities would change to their\ncorresponding equivalent zonelet type in MeshParts.\n\n<img src=\"file://../../../images/00_after_delete_topology.png\" align=\"center\" width=\"800\" alt=\"MeshPart after deleting topology.\">\n\n\n"
      ]
    },
    {
      "cell_type": "code",
      "execution_count": null,
      "metadata": {
        "collapsed": false
      },
      "outputs": [],
      "source": [
        "mesh_util.read(mesh_file_pmdat, append=False)\n\nprint(model)\nfor part in model.parts:\n    if len(part.get_topo_faces()) > 0:\n        part.delete_topo_entities(\n            prime.DeleteTopoEntitiesParams(\n                model, delete_geom_zonelets=True, delete_mesh_zonelets=False\n            )\n        )\n\nprint(model)"
      ]
    },
    {
      "cell_type": "markdown",
      "metadata": {},
      "source": [
        "## Reading Ansys Fluent (.cas) format mesh file\nRead the exported Fluent format mesh file.\n\n<img src=\"file://../../../images/00_import_cas.png\" align=\"center\" width=\"800\" alt=\"After import of cas mesh file.\">\n\nIt would be observed that\nthe zone name **my_group** is retained and the remaining face zonelets that are not\nassociated with a face zone(s) are merged to create a new zone named **wall**.\nThere are no labels present in the mesh file.\n\n"
      ]
    },
    {
      "cell_type": "code",
      "execution_count": null,
      "metadata": {
        "collapsed": false
      },
      "outputs": [],
      "source": [
        "mesh_util.read(mesh_file_cas, append=False)\nprint(model)\npart = model.parts[0]\nfor zone in part.get_face_zones():\n    print(model.get_zone_name(zone))\n    scope = prime.ScopeDefinition(\n        model,\n        evaluation_type=prime.ScopeEvaluationType.ZONES,\n        zone_expression=model.get_zone_name(zone),\n    )\n    display = PrimePlotter()\n    display.plot(model, scope, update=True)\n    display.show()"
      ]
    },
    {
      "cell_type": "markdown",
      "metadata": {},
      "source": [
        "## Exit PyPrimeMesh\n\n"
      ]
    },
    {
      "cell_type": "code",
      "execution_count": null,
      "metadata": {
        "collapsed": false
      },
      "outputs": [],
      "source": [
        "prime_client.exit()"
      ]
    }
  ],
  "metadata": {
    "kernelspec": {
      "display_name": "Python 3",
      "language": "python",
      "name": "python3"
    },
    "language_info": {
      "codemirror_mode": {
        "name": "ipython",
        "version": 3
      },
      "file_extension": ".py",
      "mimetype": "text/x-python",
      "name": "python",
      "nbconvert_exporter": "python",
      "pygments_lexer": "ipython3",
      "version": "3.10.16"
    }
  },
  "nbformat": 4,
  "nbformat_minor": 0
}