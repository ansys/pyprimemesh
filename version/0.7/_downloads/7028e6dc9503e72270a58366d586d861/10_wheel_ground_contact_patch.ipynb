{
  "cells": [
    {
      "cell_type": "markdown",
      "metadata": {},
      "source": [
        "\n\n# Create a contact patch for wrapping between a wheel and ground interface\n\n**Summary**: This example demonstrates how to create a contact patch for use with wrapping\nto avoid meshing into a narrow contact region between two objects.\n\n## Objective\nThis example uses a contact patch for wrapping to avoid the interface of a wheel with the ground\nto improve mesh quality when growing prism layers in the region of the contacting faces.\n\n<img src=\"file://../../../images/contact_patch.png\" align=\"center\" width=\"600\">\n\nThe preceding image shows the following:\n\n\n* Top left: Wheel/ground interface\n* Top right: Addition of contact patch\n* Lower left: Grouping tolerance at 4 with multiple contact patches\n* Lower right: Grouping tolerance at 20 with merged single contact patch\n\n\n\n## Procedure\n#. Launch an Ansys Prime Server instance and instantiate the meshing utilities\n   from the ``lucid`` class.\n#. Import the wheel ground geometry.\n#. Convert the topo parts to mesh parts so that the contact patch can be created.\n#. Create a contact patch between the wheel and the ground.\n#. Extract the fluid region using wrapping.\n#. Volume mesh with polyhedral and prism cells.\n#. Write a CAS file for use in the Fluent solver.\n#. Exit the PyPrimeMesh session.\n"
      ]
    },
    {
      "cell_type": "markdown",
      "metadata": {},
      "source": [
        "## Launch Ansys Prime Server\nImport all necessary modules and launch an instance of Ansys Prime Server.\nFrom the PyPrimeMesh client, get the model.\nInstantiate meshing utilities from the ``lucid`` class.\n\n"
      ]
    },
    {
      "cell_type": "code",
      "execution_count": null,
      "metadata": {
        "collapsed": false
      },
      "outputs": [],
      "source": [
        "import os\nimport tempfile\n\nimport ansys.meshing.prime as prime\nfrom ansys.meshing.prime.graphics import PrimePlotter\n\nclient = prime.launch_prime()\nmodel = client.model\n\nmesh_util = prime.lucid.Mesh(model)"
      ]
    },
    {
      "cell_type": "markdown",
      "metadata": {},
      "source": [
        "## Import CAD geometry\nDownload the wheel ground geometry (FMD) file exported by SpaceClaim.\nImport the CAD geometry. The geometry consists of two topo parts: a wheel and an enclosing box.\nLabels are defined for the ground topo face on the enclosure and for the wheel\nas all the topo faces of the wheel part.\n\n"
      ]
    },
    {
      "cell_type": "code",
      "execution_count": null,
      "metadata": {
        "collapsed": false
      },
      "outputs": [],
      "source": [
        "# For Windows OS users, SCDOC or DSCO is also available. For example:\n# wheel_ground_file = prime.examples.download_wheel_ground_scdoc()\n\nwheel_ground_file = prime.examples.download_wheel_ground_fmd()\n\nmesh_util.read(wheel_ground_file)\n\n\n###################\n# Visualize results\n# =================\n# .. code-block:: python\n#\n#   display = PrimePlotter()\n#   display.plot(model, scope=prime.ScopeDefinition(model, label_expression=\"ground, wheel\"))\n#   display.show()\n\nprint(model)"
      ]
    },
    {
      "cell_type": "markdown",
      "metadata": {},
      "source": [
        "## Convert topo parts to mesh parts\nConvert the faceted geometry of the topology to mesh for all parts as the contact patch\nrequires face zonelets from mesh parts as input.\n\n"
      ]
    },
    {
      "cell_type": "code",
      "execution_count": null,
      "metadata": {
        "collapsed": false
      },
      "outputs": [],
      "source": [
        "wheel_part = model.get_part_by_name(\"wheel_body\")\nenclosure_part = model.get_part_by_name(\"enclosure\")\n\n[part.delete_topo_entities(prime.DeleteTopoEntitiesParams(model)) for part in model.parts]"
      ]
    },
    {
      "cell_type": "markdown",
      "metadata": {},
      "source": [
        "## Create a contact patch\nTo create a contact patch, a direction is needed to define the resulting shape of the patch.\nA new part is created containing the patch.\nA prefix can be specified for the label created for the contact patch face zonelets generated.\nThe offset distance determines the thickness and extent of the patch.  The source face zonelet is\noffset to intersect the planar target face and the intersection used to define the contact patch.\nDue to the depth of the treads on the wheel, 20.0 is used as the offset to reach the tire surface.\nIf multiple contact regions are found, they can be merged by grouping them using the grouping\ntolerance distance.  With a grouping tolerance of 4.0, separate contact regions are created for\nsome of the treads of the tire, see the image at the top of the example. To merge these contact\nregions into a single patch, the grouping tolerance distance is increased to 20.0, avoiding small\ngaps between contact regions.\n\n"
      ]
    },
    {
      "cell_type": "code",
      "execution_count": null,
      "metadata": {
        "collapsed": false
      },
      "outputs": [],
      "source": [
        "# The face zonelets of the wheel are defined as the source.\n# The planar surface must be specified as the target.\n# In this instance, the ground provides the planar target.\n\nsource = wheel_part.get_face_zonelets()\ntarget = enclosure_part.get_face_zonelets_of_label_name_pattern(\n    \"ground\", prime.NamePatternParams(model)\n)\n\nparams = prime.CreateContactPatchParams(\n    model,\n    contact_patch_axis=prime.ContactPatchAxis.Z,\n    offset_distance=20.0,\n    grouping_tolerance=20.0,\n    suggested_label_prefix=\"patch\",\n)\nresult = prime.SurfaceUtilities(model).create_contact_patch(\n    source_zonelets=source, target_zonelets=target, params=params\n)\nprint(result.error_code)\nprint(model)\n\n###################\n# Visualize results\n# =================\n# .. code-block:: python\n#\n#   display = PrimePlotter()\n#   display.plot(\n#          model, scope=prime.ScopeDefinition(model, label_expression=\"ground, patch*, wheel\")\n#   )\n#   display.show()"
      ]
    },
    {
      "cell_type": "markdown",
      "metadata": {},
      "source": [
        "## Wrap the fluid region\nThe largest internal region in this instance is the fluid region around the wheel.\nIntersection loops are created to capture the features at the corners between the\npatch, ground, and wheel.\n\n"
      ]
    },
    {
      "cell_type": "code",
      "execution_count": null,
      "metadata": {
        "collapsed": false
      },
      "outputs": [],
      "source": [
        "model.set_global_sizing_params(prime.GlobalSizingParams(model, min=4.0, max=100.0, growth_rate=1.4))\n\n# Create a size control to limit the size of mesh on the wheel.\nsize_control = model.control_data.create_size_control(prime.SizingType.SOFT)\nsize_control.set_soft_sizing_params(prime.SoftSizingParams(model=model, max=8.0))\nsize_control.set_scope(prime.ScopeDefinition(model=model, label_expression=\"wheel\"))\n\nwrap_part = mesh_util.wrap(\n    min_size=4.0,\n    max_size=100.0,\n    region_extract=prime.WrapRegion.LARGESTINTERNAL,\n    create_intersection_loops=True,\n    wrap_size_controls=[size_control],\n)"
      ]
    },
    {
      "cell_type": "markdown",
      "metadata": {},
      "source": [
        "### Open a pyvistaqt window\n```python\ndisplay = PrimePlotter()\ndisplay.plot(\n    model,\n    scope=prime.ScopeDefinition(model, label_expression=\"ground, patch*, wheel\"), update=True\n)\ndisplay.show()\n```\n"
      ]
    },
    {
      "cell_type": "code",
      "execution_count": null,
      "metadata": {
        "collapsed": false
      },
      "outputs": [],
      "source": [
        "print(model)"
      ]
    },
    {
      "cell_type": "markdown",
      "metadata": {},
      "source": [
        "## Volume mesh\nApply five layers of prisms to the wheel, patch, and ground. Mesh with polyhedrals.\n\n"
      ]
    },
    {
      "cell_type": "code",
      "execution_count": null,
      "metadata": {
        "collapsed": false
      },
      "outputs": [],
      "source": [
        "model.set_global_sizing_params(prime.GlobalSizingParams(model, min=4.0, max=100.0, growth_rate=1.4))\nmesh_util.volume_mesh(\n    volume_fill_type=prime.VolumeFillType.POLY,\n    prism_layers=5.0,\n    prism_surface_expression=\"wheel, patch*, ground\",\n    prism_volume_expression=\"*\",\n    scope=prime.lucid.VolumeScope(part_expression=wrap_part.name),\n)\n\ndisplay = PrimePlotter()\ndisplay.plot(\n    model,\n    scope=prime.ScopeDefinition(model, label_expression=\"!front !side_right !top\"),\n    update=True,\n)\ndisplay.show()\n\nmesh_util.create_zones_from_labels()\n\nwrap_part._print_mesh = True\nprint(wrap_part)"
      ]
    },
    {
      "cell_type": "markdown",
      "metadata": {},
      "source": [
        "## Write model\nWrite a CAS file for use in the Fluent solver.\n\n"
      ]
    },
    {
      "cell_type": "code",
      "execution_count": null,
      "metadata": {
        "collapsed": false
      },
      "outputs": [],
      "source": [
        "with tempfile.TemporaryDirectory() as temp_folder:\n    wheel_model = os.path.join(temp_folder, \"wheel_ground_contact.cas.h5\")\n    prime.FileIO(model).export_fluent_case(\n        wheel_model,\n        export_fluent_case_params=prime.ExportFluentCaseParams(model, cff_format=True),\n    )\n    assert os.path.exists(wheel_model)\n    print(f\"Fluent case exported at {wheel_model}\")"
      ]
    },
    {
      "cell_type": "markdown",
      "metadata": {},
      "source": [
        "## Exit the PyPrimeMesh session\n\n"
      ]
    },
    {
      "cell_type": "code",
      "execution_count": null,
      "metadata": {
        "collapsed": false
      },
      "outputs": [],
      "source": [
        "client.exit()"
      ]
    }
  ],
  "metadata": {
    "kernelspec": {
      "display_name": "Python 3",
      "language": "python",
      "name": "python3"
    },
    "language_info": {
      "codemirror_mode": {
        "name": "ipython",
        "version": 3
      },
      "file_extension": ".py",
      "mimetype": "text/x-python",
      "name": "python",
      "nbconvert_exporter": "python",
      "pygments_lexer": "ipython3",
      "version": "3.10.16"
    }
  },
  "nbformat": 4,
  "nbformat_minor": 0
}