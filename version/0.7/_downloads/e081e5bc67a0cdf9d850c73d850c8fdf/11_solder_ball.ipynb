{
  "cells": [
    {
      "cell_type": "markdown",
      "metadata": {},
      "source": [
        "\n\n# Mesh a set of solder balls (beta)\n\n**Summary**: This example demonstrates how to mesh a set of solder balls with mainly\nhexahedral elements. The solder is initially modelled as cylindrical to allow meshing\nusing stacker and then local match morph controls are applied to recover the\nspherical shapes.\n\n<div class=\"alert alert-info\"><h4>Note</h4><p>This example contains a beta API. The behavior and implementation may change in future.</p></div>\n\n## Objective\nThis example uses locally defined match morphing controls to morph a hexahedral mesh,\ncreated using volume sweep, to many spherical solder balls.\n\n<img src=\"file://../../../images/solder_ball_mesh_cross_section.png\" align=\"center\" width=\"800\" alt=\"Mesh cross section of solder ball model.\">\n\n## Procedure\n#. Import libraries necessary to run the script.\n#. Launch an Ansys Prime Server instance.\n#. Import stackable simplified CAD geometry with refaceting.\n#. Connect the geometry using scaffolding.\n#. Mesh with hex dominant elements using the volume sweeper.\n#. Import the target CAD geometry for the solders for match morphing.\n#. Locally match morph the simplified mesh to the target spherical solders.\n#. Delete the target and export the morphed mesh.\n#. Exit the PyPrimeMesh session.\n"
      ]
    },
    {
      "cell_type": "markdown",
      "metadata": {},
      "source": [
        "## Import modules\nImport libraries necessary to run the script.\n\n"
      ]
    },
    {
      "cell_type": "code",
      "execution_count": null,
      "metadata": {
        "collapsed": false
      },
      "outputs": [],
      "source": [
        "import os\nimport tempfile\n\nimport ansys.meshing.prime as prime\nfrom ansys.meshing.prime.graphics import PrimePlotter"
      ]
    },
    {
      "cell_type": "markdown",
      "metadata": {},
      "source": [
        "## Launch Ansys Prime Server\nLaunch an instance of Ansys Prime Server.\nConnect the PyPrimeMesh client and get the model.\n\n"
      ]
    },
    {
      "cell_type": "code",
      "execution_count": null,
      "metadata": {
        "collapsed": false
      },
      "outputs": [],
      "source": [
        "prime_client = prime.launch_prime()\nmodel = prime_client.model"
      ]
    },
    {
      "cell_type": "markdown",
      "metadata": {},
      "source": [
        "## Import CAD geometry\nFMD is exported from SpaceClaim for the geometry.\nGeometry consists of multiple non overlapping and disconnected volumes.\nThe model has multiple layers either side of several solder balls with pads\nand contains an infill volume around the solder. During import, the part\ncreation type is set to BODY so that each body in the CAD is imported as a\nseparate part. Refaceting is specified for more control of the scaffolding\noperation. Consistent faceting for the curved surfaces to be joined can be\nobtained by specifying CadRefacetingMaxEdgeSizeLimit as ABSOLUTE. To avoid\nover refinement of the faceting the max_edge_size is allowed to reach a size\nof 1.0. Labels can be assigned to manage the entities of each volume.\n\n"
      ]
    },
    {
      "cell_type": "code",
      "execution_count": null,
      "metadata": {
        "collapsed": false
      },
      "outputs": [],
      "source": [
        "solder_ball = prime.examples.download_solder_ball_fmd()\n\nparams = prime.ImportCadParams(\n    model,\n    append=True,\n    part_creation_type=prime.PartCreationType.BODY,\n    refacet=True,\n    cad_refaceting_params=prime.CadRefacetingParams(\n        model,\n        cad_faceter=prime.CadFaceter.PARASOLID,\n        max_edge_size_limit=prime.CadRefacetingMaxEdgeSizeLimit.ABSOLUTE,\n        max_edge_size=1.0,\n    ),\n)\n\nprime.FileIO(model).import_cad(file_name=solder_ball, params=params)\n\nfor part in model.parts:\n    part.add_labels_on_topo_entities([part.name], part.get_topo_faces())\n    part.add_labels_on_topo_entities([part.name], part.get_topo_volumes())\n\n# Display the model without the infill so the cylindrical geometry of the solder\n# is visible.\n\ndisplay = PrimePlotter()\ndisplay.plot(\n    model, scope=prime.ScopeDefinition(model=model, label_expression=\"solder_cyl*,pad*,layer*\")\n)\ndisplay.show()"
      ]
    },
    {
      "cell_type": "markdown",
      "metadata": {},
      "source": [
        "## Connect geometry\nMerge all parts into a single part so they can be connected.\nImprint adjacent topo faces by connecting topo faces and topo edges.\nMesh all topo faces to allow splitting the imprinted topo faces by mesh regions.\nDelete mesh on topo faces after splitting.\nMerge newly created overlapping topo faces so only a single topo face exists\nbetween connected volumes.\n\n"
      ]
    },
    {
      "cell_type": "code",
      "execution_count": null,
      "metadata": {
        "collapsed": false
      },
      "outputs": [],
      "source": [
        "part_ids = [part.id for part in model.parts if part.get_topo_faces()]\nmerge_result = model.merge_parts(part_ids=part_ids, params=prime.MergePartsParams(model))\nprint(model)\n\nmerged_part = model.get_part(merge_result.merged_part_id)\n\nparams = prime.ScaffolderParams(\n    model=model,\n    absolute_dist_tol=0.01,\n    intersection_control_mask=prime.IntersectionMask.FACEFACEANDEDGEEDGE,\n    constant_mesh_size=0.1,\n)\n\nscaffolder = prime.Scaffolder(model, merged_part.id)\nres = scaffolder.scaffold_topo_faces_and_beams(\n    topo_faces=merged_part.get_topo_faces(), topo_beams=[], params=params\n)\n\nprime.lucid.Mesh(model).surface_mesh(min_size=0.1)\nprime.Scaffolder(model, merged_part.id).split_topo_faces_by_mesh_region(\n    merged_part.get_topo_faces()\n)\n\n# This is a beta API. The behavior and implementation may change in future.\nresult = model.topo_data.delete_mesh_on_topo_faces(\n    merged_part.get_topo_faces(), prime.DeleteMeshParams(model=model)\n)\n\nscaffolder.merge_overlapping_topo_faces(merged_part.get_topo_faces(), params)\n\ndisplay = PrimePlotter()\ndisplay.plot(model, update=True)\ndisplay.show()"
      ]
    },
    {
      "cell_type": "markdown",
      "metadata": {},
      "source": [
        "## Volume sweeper\nSetup a size control to refine the mesh around the solder.\nSetup stacker parameters to define the volume sweep mesh.\nCreate the base face to quad surface mesh and use for sweeping.\nStack the base face to create the volume mesh.\nDelete topology on mesh part to allow use of surface utilities and feature extraction.\nA large lateral defeature tolerance of 0.1 is used to avoid additional topo nodes\nfrom scaffolding impacting the final mesh.\n\n"
      ]
    },
    {
      "cell_type": "code",
      "execution_count": null,
      "metadata": {
        "collapsed": false
      },
      "outputs": [],
      "source": [
        "model.set_global_sizing_params(prime.GlobalSizingParams(model, min=0.1, max=0.4))\n\nsize_control = model.control_data.create_size_control(prime.SizingType.SOFT)\nsize_control.set_scope(\n    prime.ScopeDefinition(model, part_expression=merged_part.name, label_expression=\"*solder*\")\n)\nsize_control.set_soft_sizing_params(prime.SoftSizingParams(model, max=0.1))\n\nstacker_params = prime.MeshStackerParams(\n    model=model,\n    direction=[0, 1, 0],\n    max_offset_size=0.4,\n    delete_base=True,\n    lateral_defeature_tolerance=0.1,\n    stacking_defeature_tolerance=0.01,\n    size_control_ids=[size_control.id],\n)\n\nsweeper = prime.VolumeSweeper(model)\n\ncreatebase_results = sweeper.create_base_face(\n    part_id=merged_part.id,\n    topo_volume_ids=merged_part.get_topo_volumes(),\n    params=stacker_params,\n)\n\nbase_faces = createbase_results.base_face_ids\nmerged_part.add_labels_on_topo_entities([\"base_faces\"], base_faces)\n\nscope = prime.ScopeDefinition(model=model, label_expression=\"base_faces\")\n\nbase_scope = prime.lucid.SurfaceScope(\n    entity_expression=\"base_faces\",\n    part_expression=merged_part.name,\n    scope_evaluation_type=prime.ScopeEvaluationType.LABELS,\n)\n\nprime.lucid.Mesh(model).surface_mesh(\n    min_size=0.1, max_size=0.4, scope=base_scope, generate_quads=True\n)\n\ndisplay = PrimePlotter()\ndisplay.plot(model, update=True)\ndisplay.show()\n\nstackbase_results = sweeper.stack_base_face(\n    part_id=merged_part.id,\n    base_face_ids=base_faces,\n    topo_volume_ids=merged_part.get_topo_volumes(),\n    params=stacker_params,\n)\n\nmerged_part.delete_topo_entities(\n    prime.DeleteTopoEntitiesParams(model, delete_geom_zonelets=True, delete_mesh_zonelets=False)\n)\n\nmerged_part._print_mesh = True\nprint(merged_part)\n\ndisplay = PrimePlotter()\ndisplay.plot(model, update=True)\ndisplay.show()"
      ]
    },
    {
      "cell_type": "markdown",
      "metadata": {},
      "source": [
        "## Import sphere geometry for match morphing\nCreate a single part on CAD import by setting the part creation type to MODEL.\nConvert topology to mesh face zonelets to use surface utilities.\n\n"
      ]
    },
    {
      "cell_type": "code",
      "execution_count": null,
      "metadata": {
        "collapsed": false
      },
      "outputs": [],
      "source": [
        "solder_ball_target = prime.examples.download_solder_ball_target_fmd()\n\nparams = prime.ImportCadParams(model, append=True, part_creation_type=prime.PartCreationType.MODEL)\n\nprime.FileIO(model).import_cad(file_name=solder_ball_target, params=params)\n\nimported_cad_part_ids = [part.id for part in model.parts if part.get_topo_faces()]\ntarget_part = model.get_part(imported_cad_part_ids[0])\n\ndisplay = PrimePlotter()\ndisplay.plot(model, scope=prime.ScopeDefinition(model, part_expression=target_part.name))\ndisplay.show()\n\nprint(model)\n\ntarget_part.delete_topo_entities(\n    prime.DeleteTopoEntitiesParams(model, delete_geom_zonelets=False, delete_mesh_zonelets=False)\n)"
      ]
    },
    {
      "cell_type": "markdown",
      "metadata": {},
      "source": [
        "## Match morph the mesh to the spherical solder\nDelete feature edge zonelets on the mesh source.\nGet lists of the source and target face zonelets for the match morph.\nPair source and target faces based on overlapping bounding box locations.\nFor each source face extract feature edges with nodes attached to faces.\nDefine edge pairs for each match pair control as a morph boundary condition.\nMatch morph solder faces and edges.\nDelete target sphere part and retain the morphed mesh for export.\n\n"
      ]
    },
    {
      "cell_type": "code",
      "execution_count": null,
      "metadata": {
        "collapsed": false
      },
      "outputs": [],
      "source": [
        "merged_part.delete_zonelets(merged_part.get_edge_zonelets())\ncylinder_faces = merged_part.get_face_zonelets_of_label_name_pattern(\n    \"solder_cyl\", prime.NamePatternParams(model)\n)\nsphere_faces = target_part.get_face_zonelets()\n\nmatch_pairs = []\n\n# When the match morph operation is defined by multiple\n# separate local match morph source and targets,\n# individual match pairs must be specified for each\n# contiguous set of face zonelets.\n# Separate one to one boundary condition pairs for the\n# connected edge zonelets must also be defined for\n# each face match pair to ensure the edges remain rigid.\n\n# For each solder to be morphed we have a match pair\n# for the source and target face zonelets. To ensure\n# the edge zonelets remain rigid during the morph,\n# boundary condition pairs for each of the two edge\n# zonelets need to be created.\n\n# For each cylindrical face zonelet on the source\n# mesh find the corresponding target sphere face zonelet\n# to match morph the mesh using the position of their bounding box.\n# Labels defined in the CAD model would be a more efficient way to pair.\ntolerance = 0.2\nfor face in cylinder_faces:\n    box = prime.SurfaceUtilities(model).get_bounding_box_of_zonelets([face])\n    for i in range(len(sphere_faces)):\n        sphere_box = prime.SurfaceUtilities(model).get_bounding_box_of_zonelets([sphere_faces[i]])\n        if (\n            (abs(sphere_box.xmin - box.xmin) < tolerance)\n            and (abs(sphere_box.ymin - box.ymin) < tolerance)\n            and (abs(sphere_box.zmin - box.zmin) < tolerance)\n            and (abs(sphere_box.xmax - box.xmax) < tolerance)\n            and (abs(sphere_box.ymax - box.ymax) < tolerance)\n            and (abs(sphere_box.zmax - box.zmax) < tolerance)\n        ):\n            break\n        elif i == len(sphere_faces) - 1:\n            # if no target face is found by the final pass then return an error\n            prime.PrimeRuntimeError(message=f\"Target sphere not found for face {face}.\")\n    match_pair = prime.MatchPair(\n        model,\n        source_surfaces=[face],\n        target_surfaces=[sphere_faces[i]],\n        target_type=prime.MatchPairTargetType.FACEZONELET,\n    )\n    bc_pairs = []\n\n    # Once each source and target face zonelet are found and paired, edge zonelets\n    # are created and used as boundary conditions to ensure they remain rigid.\n    # Creating edge zonelets not disconnected from the faces ensures that the edge\n    # zonelet will act as a boundary condition for the morph operation.\n    # Extracting the edge zonelets from the source face zonelet and using\n    # them to define both source and target boundary conditions ensures\n    # the edge zonelets of the solder remain rigid.\n    result = prime.FeatureExtraction(model).extract_features_on_face_zonelets(\n        merged_part.id,\n        [face],\n        prime.ExtractFeatureParams(\n            model,\n            feature_angle=60,\n            separate_features=True,\n            separation_angle=60,\n            replace=False,\n            disconnect_with_faces=False,\n        ),\n    )\n    for edge in result.new_edge_zonelets:\n        bc_pair = prime.BCPair(\n            model,\n            int(edge),\n            int(edge),\n            type=prime.BCPairType.EDGE,\n        )\n        bc_pairs.append(bc_pair)\n    match_pair.bc_pairs = bc_pairs\n    match_pairs.append(match_pair)\n\nmorph = prime.Morpher(model)\n\nmorph_params = prime.MatchMorphParams(model)\nbc_params = prime.MorphBCParams(model, morphable_layers=0)\nsolve_params = prime.MorphSolveParams(model)\n\nmorph.match_morph(\n    part_id=merged_part.id,\n    match_pairs=match_pairs,\n    match_morph_params=morph_params,\n    bc_params=bc_params,\n    solve_params=solve_params,\n)\n\nmodel.delete_parts([target_part.id])\n\ndisplay = PrimePlotter()\ndisplay.plot(\n    model, scope=prime.ScopeDefinition(model=model, label_expression=\"solder*\"), update=True\n)\ndisplay.show()"
      ]
    },
    {
      "cell_type": "markdown",
      "metadata": {},
      "source": [
        "## Export mesh\nExport a CDB file.\n\n"
      ]
    },
    {
      "cell_type": "code",
      "execution_count": null,
      "metadata": {
        "collapsed": false
      },
      "outputs": [],
      "source": [
        "with tempfile.TemporaryDirectory() as temp_folder:\n    mesh_file = os.path.join(temp_folder, \"solder_balls.cdb\")\n    params = prime.ExportMapdlCdbParams(model=model)\n    prime.FileIO(model=model).export_mapdl_cdb(file_name=mesh_file, params=params)\n    assert os.path.exists(mesh_file)\n    print(\"\\nExported file:\\n\", mesh_file)"
      ]
    },
    {
      "cell_type": "markdown",
      "metadata": {},
      "source": [
        "## Exit PyPrimeMesh\n\n"
      ]
    },
    {
      "cell_type": "code",
      "execution_count": null,
      "metadata": {
        "collapsed": false
      },
      "outputs": [],
      "source": [
        "prime_client.exit()"
      ]
    }
  ],
  "metadata": {
    "kernelspec": {
      "display_name": "Python 3",
      "language": "python",
      "name": "python3"
    },
    "language_info": {
      "codemirror_mode": {
        "name": "ipython",
        "version": 3
      },
      "file_extension": ".py",
      "mimetype": "text/x-python",
      "name": "python",
      "nbconvert_exporter": "python",
      "pygments_lexer": "ipython3",
      "version": "3.10.16"
    }
  },
  "nbformat": 4,
  "nbformat_minor": 0
}