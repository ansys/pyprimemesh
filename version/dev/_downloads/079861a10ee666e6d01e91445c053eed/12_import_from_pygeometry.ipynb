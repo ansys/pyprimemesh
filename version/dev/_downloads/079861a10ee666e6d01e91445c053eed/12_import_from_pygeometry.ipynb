{
  "cells": [
    {
      "cell_type": "markdown",
      "metadata": {},
      "source": [
        "\n\n# Import a geometry from PyGeometry\n\n**Summary**: This example demonstrates how to create a simple geometry using\nPyGeometry and import it into PyPrimeMesh.\n\n\n\n## Procedure\n#. Launch the Geometry service and create a simple geometry.\n#. Launch Ansys Prime Server.\n#. Create a CAD geometry with PyGeometry.\n#. Import the geometry into PyPrimeMesh.\n#. Mesh and display the imported geometry.\n#. Exit the PyPrimeMesh and PyGeometry sessions.\n\n\n\n## Create the geometry\nFirst we create a simple geometry using PyGeometry. The geometry is a plate\nwith a hole in the center:\n\n```python\nfrom pint import Quantity\n\nfrom ansys.geometry.core import launch_modeler\nfrom ansys.geometry.core.math import Point2D\nfrom ansys.geometry.core.misc import UNITS\nfrom ansys.geometry.core.sketch import Sketch\nfrom ansys.geometry.core.math import Point2D\n\nmodeler = launch_modeler(hidden=True)\n\nsketch = Sketch()\n(\n    sketch.segment(Point2D([-4, 5], unit=UNITS.mm), Point2D([4, 5], unit=UNITS.mm))\n    .segment_to_point(Point2D([4, -5], unit=UNITS.mm))\n    .segment_to_point(Point2D([-4, -5], unit=UNITS.mm))\n    .segment_to_point(Point2D([-4, 5], unit=UNITS.mm))\n    .box(Point2D([0, 0], unit=UNITS.mm), Quantity(3, UNITS.mm), Quantity(3, UNITS.mm))\n)\ndesign = modeler.create_design(\"ExtrudedPlateNoHoles\")\nbody = design.extrude_sketch(f\"PlateLayer\", sketch, Quantity(2, UNITS.mm))\nsketch_hole = Sketch()\nsketch_hole.circle(Point2D([0, 0], unit=UNITS.mm), Quantity(0.5, UNITS.mm))\n\nhole_centers = [\n    Plane(Point3D([3, 4, 0], unit=UNITS.mm)),\n    Plane(Point3D([-3, 4, 0], unit=UNITS.mm)),\n    Plane(Point3D([-3, -4, 0], unit=UNITS.mm)),\n    Plane(Point3D([3, -4, 0], unit=UNITS.mm)),\n]\nfor center in hole_centers:\n    sketch_hole.plane = center\n    design.extrude_sketch(\n        name=f\"H_{center.origin.x}_{center.origin.y}\",\n        sketch=sketch_hole,\n        distance=Quantity(2, UNITS.mm),\n        cut=True,\n    )\n```\n## Import the geometry into PyPrimeMesh\nOnce the geometry is created, we can pass the Design object to PyPrimeMesh to\ncreate a mesh:\n\n```python\nimport ansys.meshing.prime as prime\nfrom ansys.meshing.prime.graphics.plotter import PrimePlotter\n\nprime_client = prime.launch_prime()\nmodel = prime_client.model\nmesh_util = prime.lucid.Mesh(model=model)\nmesh_util.from_geometry(design)\n```\n## Mesh the geometry and display it\nWith the geometry imported, we can now mesh it and display the mesh:\n\n```python\nmodel.set_global_sizing_params(\n    prime.GlobalSizingParams(model, min=0.2, max=10.0, growth_rate=1.2)\n)\nmesh_util.surface_mesh(min_size=0.2)\nmesh_util.volume_mesh()\n\n# Print the results\nmodel.parts[0].print_mesh = True\nprint(model)\ndisplay = PrimePlotter()\ndisplay.plot(model)\ndisplay.show()\nmodeler.close()\nprime_client.exit()\n```\n"
      ]
    }
  ],
  "metadata": {
    "kernelspec": {
      "display_name": "Python 3",
      "language": "python",
      "name": "python3"
    },
    "language_info": {
      "codemirror_mode": {
        "name": "ipython",
        "version": 3
      },
      "file_extension": ".py",
      "mimetype": "text/x-python",
      "name": "python",
      "nbconvert_exporter": "python",
      "pygments_lexer": "ipython3",
      "version": "3.13.7"
    }
  },
  "nbformat": 4,
  "nbformat_minor": 0
}