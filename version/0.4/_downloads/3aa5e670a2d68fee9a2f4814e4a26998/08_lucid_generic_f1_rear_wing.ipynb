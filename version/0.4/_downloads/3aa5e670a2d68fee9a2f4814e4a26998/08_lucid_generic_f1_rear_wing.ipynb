{
  "cells": [
    {
      "cell_type": "markdown",
      "metadata": {},
      "source": [
        "\n\n# Meshing a generic F1 car rear wing for external aero simulation\n\n**Summary**: This example showcases the process of generating a mesh for a generic F1 rear wing\nSTL file model.\n\n## Objective\n\nThe example demonstrates how to connect various parts of a rear wing from\na generic F1 car and volume mesh the resulting model using a poly-hexcore mesh containing prisms.\nTo simplify the process and enhance convenience, multiple meshing utilities provided in the\n\"lucid\" class are used.\n\n<img src=\"file://../../../images/generic_rear_wing.png\" align=\"center\" width=\"800\" alt=\"Generic F1 rear wing.\">\n\n## Procedure\n* Launch an Ansys Prime Server instance and instantiate the meshing utilities\n  from the ``lucid`` class.\n* Import and append the STL geometry files for each part of the F1 rear wing.\n* Merge all imported components into a single part.\n* Use the connect operation to join the components together.\n* Define local size controls on aero surfaces.\n* Generate a surface mesh with curvature sizing.\n* Compute volume zones and define fluid zone type.\n* Define boundary layer definition.\n* Generate a volume mesh using poly-hexcore elements and apply boundary layer refinement.\n* Print statistics on the generated mesh.\n* Write a `.cas` file for use in the Fluent solver.\n* Exit the PyPrimeMesh session.\n"
      ]
    },
    {
      "cell_type": "markdown",
      "metadata": {},
      "source": [
        "## Launch Ansys Prime Server\nImport all necessary modules.\nLaunch an instance of Ansys Prime Server.\nConnect the PyPrimeMesh client and get the model.\nInstantiate meshing utilities from the ``lucid`` class.\n\n"
      ]
    },
    {
      "cell_type": "code",
      "execution_count": null,
      "metadata": {
        "collapsed": false
      },
      "outputs": [],
      "source": [
        "import os\nimport tempfile\n\nimport ansys.meshing.prime as prime\nfrom ansys.meshing.prime.graphics import Graphics\n\nprime_client = prime.launch_prime()\nmodel = prime_client.model\nmesh_util = prime.lucid.Mesh(model=model)"
      ]
    },
    {
      "cell_type": "markdown",
      "metadata": {},
      "source": [
        "## Import geometry\nDownload the generic F1 rear wing geometries (stl files).\nImport each geometry and append to the model.\nDisplay the imported geometry.\n\n"
      ]
    },
    {
      "cell_type": "code",
      "execution_count": null,
      "metadata": {
        "collapsed": false
      },
      "outputs": [],
      "source": [
        "f1_rw_drs = prime.examples.download_f1_rw_drs_stl()\nf1_rw_enclosure = prime.examples.download_f1_rw_enclosure_stl()\nf1_rw_end_plates = prime.examples.download_f1_rw_end_plates_stl()\nf1_rw_main_plane = prime.examples.download_f1_rw_main_plane_stl()\n\nfor file_name in [f1_rw_drs, f1_rw_enclosure, f1_rw_end_plates, f1_rw_main_plane]:\n    mesh_util.read(file_name, append=True)\n\n# display the rear wing geometry without the enclosure\ndisplay = Graphics(model)\nscope = prime.ScopeDefinition(model, part_expression=\"* !*enclosure*\")\ndisplay(scope=scope)"
      ]
    },
    {
      "cell_type": "markdown",
      "metadata": {},
      "source": [
        "## Merge parts\nEstablish the global size parameter to regulate mesh refinement.\nMerge all individual parts into a unified part named `f1_car_rear_wing`.\n\n"
      ]
    },
    {
      "cell_type": "code",
      "execution_count": null,
      "metadata": {
        "collapsed": false
      },
      "outputs": [],
      "source": [
        "# Define global sizes\nmodel.set_global_sizing_params(prime.GlobalSizingParams(model, min=4, max=32, growth_rate=1.2))\n\n# Create label per part\nfor part in model.parts:\n    part.add_labels_on_zonelets([part.name.split(\".\")[0]], part.get_face_zonelets())\n\n# Merge parts\nmerge_params = prime.MergePartsParams(model, merged_part_suggested_name=\"f1_car_rear_wing\")\nmerge_result = model.merge_parts([part.id for part in model.parts], merge_params)\npart = model.get_part_by_name(merge_result.merged_part_assigned_name)"
      ]
    },
    {
      "cell_type": "markdown",
      "metadata": {},
      "source": [
        "## Mesh connect\nIn order to generate a volume mesh for a closed domain, it is necessary to ensure\nthat the components of the rear wing are properly connected.\nTo achieve this, perform a connect operation using labels to join the components of\nthe rear wing.\nAfterward, inspect the mesh to detect any edges that are not connected.\n\n"
      ]
    },
    {
      "cell_type": "code",
      "execution_count": null,
      "metadata": {
        "collapsed": false
      },
      "outputs": [],
      "source": [
        "# Connect faces\nmesh_util.connect_faces(part.name, face_labels=\"*\", target_face_labels=\"*\", tolerance=0.02)\n\n# Diagnostics\nsurf_diag = prime.SurfaceSearch(model)\nsurf_report = surf_diag.get_surface_diagnostic_summary(\n    prime.SurfaceDiagnosticSummaryParams(\n        model,\n        compute_free_edges=True,\n        compute_self_intersections=True,\n    )\n)\nprint(f\"Total number of free edges present is {surf_report.n_free_edges}\")"
      ]
    },
    {
      "cell_type": "markdown",
      "metadata": {},
      "source": [
        "## Define local size-control and generate size-field\nIn order to accurately represent the physics of the DRS wing, a limitation of 8 mm\nis imposed on the mesh size of the wing.\nThis is accomplished by implementing curvature size control, which refines the\nmesh according to the curvature of the DRS surfaces.\nAdditionally, to accurately capture the curved surfaces of other sections of the\nwing, curvature control is defined with a normal angle of 18 degrees.\nThese controls are used during surface mesh generation.\nA volumetric size-field is then computed based on the defined size controls.\nThe volumetric size-field plays a crucial role in controlling\nthe growth and refinement of the volume mesh.\n\n"
      ]
    },
    {
      "cell_type": "code",
      "execution_count": null,
      "metadata": {
        "collapsed": false
      },
      "outputs": [],
      "source": [
        "# Local curvature size control for DRS\ncurv_size_control = model.control_data.create_size_control(prime.SizingType.CURVATURE)\ncurv_size_params = prime.CurvatureSizingParams(model, normal_angle=18, max=4)\ncurv_size_control.set_curvature_sizing_params(curv_size_params)\ncurv_scope = prime.ScopeDefinition(\n    model,\n    entity_type=prime.ScopeEntity.FACEZONELETS,\n    part_expression=\"f1_car_rear_wing*\",\n    label_expression=\"*drs*\",\n)\ncurv_size_control.set_scope(curv_scope)\ncurv_size_control.set_suggested_name(\"curvature_drs\")\n\n# Global curvature size control on all face zones of the rear wing\ncurv_size_control_global = model.control_data.create_size_control(prime.SizingType.CURVATURE)\ncurv_size_params_global = prime.CurvatureSizingParams(model, normal_angle=18, min=8)\ncurv_size_control_global.set_curvature_sizing_params(curv_size_params_global)\ncurv_scope = prime.ScopeDefinition(\n    model,\n    entity_type=prime.ScopeEntity.FACEZONELETS,\n    part_expression=\"f1_car_rear_wing*\",\n)\ncurv_size_control_global.set_scope(curv_scope)\ncurv_size_control_global.set_suggested_name(\"curvature_global\")\n\n# Compute volumetric sizefield\ncompute_size = prime.SizeField(model)\nvol_sf_params = prime.VolumetricSizeFieldComputeParams(model)\ncompute_size.compute_volumetric(\n    [curv_size_control.id, curv_size_control_global.id], volumetric_sizefield_params=vol_sf_params\n)"
      ]
    },
    {
      "cell_type": "markdown",
      "metadata": {},
      "source": [
        "## Generate surface mesh\nCreate a surface mesh for the rear wing using the defined size controls.\nTo facilitate the definition of boundary conditions on the surfaces in the solver,\ngenerate face zones by utilizing the existing labels found in the rear wing model.\n\n"
      ]
    },
    {
      "cell_type": "code",
      "execution_count": null,
      "metadata": {
        "collapsed": false
      },
      "outputs": [],
      "source": [
        "mesh_util.surface_mesh_with_size_controls(size_control_names=\"*curvature*\")\nscope = prime.ScopeDefinition(model, label_expression=\"* !*enclosure*\")\ndisplay(scope=scope)\n\n# Create face zones per label\nfor label in part.get_labels():\n    mesh_util.create_zones_from_labels(label_expression=label)"
      ]
    },
    {
      "cell_type": "markdown",
      "metadata": {},
      "source": [
        "## Compute volumetric regions\nCompute the volume zones.\n\n"
      ]
    },
    {
      "cell_type": "code",
      "execution_count": null,
      "metadata": {
        "collapsed": false
      },
      "outputs": [],
      "source": [
        "mesh_util.compute_volumes(part_expression=part.name, create_zones_per_volume=True)"
      ]
    },
    {
      "cell_type": "markdown",
      "metadata": {},
      "source": [
        "## Define volume controls\nIn order to prevent the generation of a volume mesh within the solid wing,\nthe type of a volume zone within the rear wing can be defined as \"dead\".\nTo accomplish this, Volume Control is utilized to assign the type for the\nspecific volume zone.\nExpressions are employed to define the volume zones that need to be filled, with\n\"* !f1_rw_enclosure\" indicating that it applies to all volume zones except\nfor \"f1_rw_enclosure\".\n\n"
      ]
    },
    {
      "cell_type": "code",
      "execution_count": null,
      "metadata": {
        "collapsed": false
      },
      "outputs": [],
      "source": [
        "volume_control = model.control_data.create_volume_control()\nvolume_control.set_params(\n    prime.VolumeControlParams(\n        model,\n        cell_zonelet_type=prime.CellZoneletType.DEAD,\n    )\n)\nvolume_control.set_scope(\n    prime.ScopeDefinition(\n        model, evaluation_type=prime.ScopeEvaluationType.ZONES, zone_expression=\"* !f1_rw_enclosure\"\n    )\n)"
      ]
    },
    {
      "cell_type": "markdown",
      "metadata": {},
      "source": [
        "## Define prism controls\nA prism control can be used to define inflation layers on the external aero surfaces.\nSpecify the aero surfaces using labels, here prism scope is defined on zones associated\nwith labels ``*drs*`` and ``*plane*``.\nThe growth for the prism layer is controlled by defining the offset type to\nbe ``uniform`` with a first height of 0.5mm .\n\n"
      ]
    },
    {
      "cell_type": "code",
      "execution_count": null,
      "metadata": {
        "collapsed": false
      },
      "outputs": [],
      "source": [
        "prism_control = model.control_data.create_prism_control()\nprism_control.set_surface_scope(\n    prime.ScopeDefinition(\n        model,\n        evaluation_type=prime.ScopeEvaluationType.LABELS,\n        entity_type=prime.ScopeEntity.FACEZONELETS,\n        label_expression=\"*drs*, *plane*\",\n    )\n)\nprism_control.set_volume_scope(\n    prime.ScopeDefinition(\n        model,\n        evaluation_type=prime.ScopeEvaluationType.ZONES,\n        entity_type=prime.ScopeEntity.VOLUME,\n        zone_expression=\"*f1_rw_enclosure*\",\n    )\n)\nprism_control.set_growth_params(\n    prime.PrismControlGrowthParams(\n        model,\n        offset_type=prime.PrismControlOffsetType.UNIFORM,\n        n_layers=5,\n        first_height=0.5,\n        growth_rate=1.2,\n    )\n)"
      ]
    },
    {
      "cell_type": "markdown",
      "metadata": {},
      "source": [
        "## Generate volume mesh\nVolume mesh with hexcore polyhedral elements and boundary layer refinement.\n\n"
      ]
    },
    {
      "cell_type": "code",
      "execution_count": null,
      "metadata": {
        "collapsed": false
      },
      "outputs": [],
      "source": [
        "volume_mesh = prime.AutoMesh(model)\nauto_mesh_param = prime.AutoMeshParams(\n    model,\n    prism_control_ids=[prism_control.id],\n    size_field_type=prime.SizeFieldType.VOLUMETRIC,\n    volume_fill_type=prime.VolumeFillType.HEXCOREPOLY,\n    volume_control_ids=[volume_control.id],\n)\nvolume_mesh.mesh(part.id, auto_mesh_param)"
      ]
    },
    {
      "cell_type": "markdown",
      "metadata": {},
      "source": [
        "## Print mesh statistics\n\n"
      ]
    },
    {
      "cell_type": "code",
      "execution_count": null,
      "metadata": {
        "collapsed": false
      },
      "outputs": [],
      "source": [
        "# Get meshed part\npart = model.get_part_by_name(\"f1_car_rear_wing\")\n\n# Get statistics on the mesh\npart_summary_res = part.get_summary(prime.PartSummaryParams(model=model))\n\n# Get element quality on all parts in the model\nsearch = prime.VolumeSearch(model=model)\nparams = prime.VolumeQualitySummaryParams(\n    model=model,\n    scope=prime.ScopeDefinition(model=model, part_expression=\"*\"),\n    cell_quality_measures=[prime.CellQualityMeasure.INVERSEORTHOGONAL],\n    quality_limit=[0.9],\n)\nresults = search.get_volume_quality_summary(params=params)\n\n# Print statistics on meshed part\nprint(part_summary_res)\nprint(\n    \"\\nMaximum inverse-orthoginal quality of the Volume Mesh : \",\n    results.quality_results_part[0].max_quality,\n)\n\n# Mesh check\nresult = prime.VolumeMeshTool(model).check_mesh(part.id, params=prime.CheckMeshParams(model))\nprint(\"\\nMesh Check\", result, sep=\"\\n\")\n\nscope = prime.ScopeDefinition(model, part_expression=\"*\", label_expression=\"* !*enclosure*\")\ndisplay(scope=scope)"
      ]
    },
    {
      "cell_type": "markdown",
      "metadata": {},
      "source": [
        "## Write mesh\nExport as cas file for external aero simulations\n\n"
      ]
    },
    {
      "cell_type": "code",
      "execution_count": null,
      "metadata": {
        "collapsed": false
      },
      "outputs": [],
      "source": [
        "with tempfile.TemporaryDirectory() as temp_folder:\n    print(temp_folder)\n    mesh_file = os.path.join(temp_folder, \"f1_rear_wing_vol_mesh.cas\")\n    mesh_util.write(mesh_file)\n    assert os.path.exists(mesh_file)\n    print(\"\\nExported file:\\n\", mesh_file)"
      ]
    },
    {
      "cell_type": "markdown",
      "metadata": {},
      "source": [
        "## Exit PyPrimeMesh\n\n"
      ]
    },
    {
      "cell_type": "code",
      "execution_count": null,
      "metadata": {
        "collapsed": false
      },
      "outputs": [],
      "source": [
        "prime_client.exit()"
      ]
    }
  ],
  "metadata": {
    "kernelspec": {
      "display_name": "Python 3",
      "language": "python",
      "name": "python3"
    },
    "language_info": {
      "codemirror_mode": {
        "name": "ipython",
        "version": 3
      },
      "file_extension": ".py",
      "mimetype": "text/x-python",
      "name": "python",
      "nbconvert_exporter": "python",
      "pygments_lexer": "ipython3",
      "version": "3.10.13"
    }
  },
  "nbformat": 4,
  "nbformat_minor": 0
}