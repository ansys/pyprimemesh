{
  "cells": [
    {
      "cell_type": "markdown",
      "metadata": {},
      "source": [
        "\n\n# Morphing a hexahedral mesh of a turbine blade to a new shape\n\n**Summary**: This example demonstrates how to morph a structural\nhexahedral mesh of a turbine blade to a new deformed shape\ndefined by a target geometry file.\n\n## Objective\n\nThis example appends a CDB mesh with a CAD geometry\nand match morphes the mesh to the geometry.\n\n<img src=\"file://../../../images/turbine_blade.png\" align=\"center\" width=\"800\" alt=\"Turbine blade hexahedral mesh.\">\n\n## Procedure\n* Launch an Ansys Prime Server instance and connect the PyPrimeMesh client.\n* Read the mesh and append the new CAD geometry shape.\n* Define the mesh source faces and the target geometry faces to match morph.\n* Match morph the turbine blade mesh to the new CAD geometry shape.\n* Write the mesh for structural analysis.\n"
      ]
    },
    {
      "cell_type": "markdown",
      "metadata": {},
      "source": [
        "## Launch Ansys Prime Server\nImport all necessary modules.\nLaunch the Ansys Prime Server instance and connect the client.\nGet the client model and instantiate meshing utilities from the ``lucid`` class.\n\n"
      ]
    },
    {
      "cell_type": "code",
      "execution_count": null,
      "metadata": {
        "collapsed": false
      },
      "outputs": [],
      "source": [
        "import os\nimport tempfile\n\nimport ansys.meshing.prime as prime\nfrom ansys.meshing.prime.graphics import Graphics\n\nprime_client = prime.launch_prime()\nmodel = prime_client.model\nmesh_util = prime.lucid.Mesh(model=model)"
      ]
    },
    {
      "cell_type": "markdown",
      "metadata": {},
      "source": [
        "## Read files\nDownload the turbine blade mesh file and CAD geometry.\nRead the mesh and append the geometry.\nDisplay the source and the target.\n\n"
      ]
    },
    {
      "cell_type": "code",
      "execution_count": null,
      "metadata": {
        "collapsed": false
      },
      "outputs": [],
      "source": [
        "# For Windows OS users, scdoc is also available for geometry:\n# target_geometry = prime.examples.download_turbine_blade_target_scdoc()\n\nsource_mesh = prime.examples.download_turbine_blade_cdb()\ntarget_geometry = prime.examples.download_deformed_blade_fmd()\nmesh_util.read(file_name=target_geometry)\nmesh_util.read(file_name=source_mesh, append=True)\n\ndisplay = Graphics(model)\ndisplay()\nprint(model)"
      ]
    },
    {
      "cell_type": "markdown",
      "metadata": {},
      "source": [
        "## Define source and target faces\n\n"
      ]
    },
    {
      "cell_type": "code",
      "execution_count": null,
      "metadata": {
        "collapsed": false
      },
      "outputs": [],
      "source": [
        "source_part = model.get_part_by_name(\"blade\")\ntarget_part = model.get_part_by_name(\"blade_deformed\")\nsource = source_part.get_face_zonelets()\ntarget = target_part.get_topo_faces()"
      ]
    },
    {
      "cell_type": "markdown",
      "metadata": {},
      "source": [
        "## Match morph mesh\nSet the target type to be for topoface because the target is geometry.\nMorph the source face zonelets of ``source_part`` to the\ntarget topo faces of the geometry.\n\n"
      ]
    },
    {
      "cell_type": "code",
      "execution_count": null,
      "metadata": {
        "collapsed": false
      },
      "outputs": [],
      "source": [
        "morpher = prime.Morpher(model)\nmatch_pair = prime.MatchPair(\n    model=model,\n    source_surfaces=source,\n    target_surfaces=target,\n    target_type=prime.MatchPairTargetType.TOPOFACE,\n)\n\nparams = prime.MatchMorphParams(model)\nbc_params = prime.MorphBCParams(model)\nsolver_params = prime.MorphSolveParams(model)\n\nmorpher.match_morph(\n    part_id=source_part.id,\n    match_pairs=[match_pair],\n    match_morph_params=params,\n    bc_params=bc_params,\n    solve_params=solver_params,\n)\n\n# Display the morphed mesh\ndisplay()"
      ]
    },
    {
      "cell_type": "markdown",
      "metadata": {},
      "source": [
        "## Write mesh\nWrite the morphed CDB file. The geometry is ignored when exporting to a CDB\nfile.\n\n"
      ]
    },
    {
      "cell_type": "code",
      "execution_count": null,
      "metadata": {
        "collapsed": false
      },
      "outputs": [],
      "source": [
        "with tempfile.TemporaryDirectory() as temp_folder:\n    mesh_file = os.path.join(temp_folder, \"morphed_turbine_blade.cdb\")\n    mesh_util.write(mesh_file)\n    assert os.path.exists(mesh_file)\n    print(\"\\nExported file:\\n\", mesh_file)"
      ]
    },
    {
      "cell_type": "markdown",
      "metadata": {},
      "source": [
        "## Exit PyPrimeMesh\n\n"
      ]
    },
    {
      "cell_type": "code",
      "execution_count": null,
      "metadata": {
        "collapsed": false
      },
      "outputs": [],
      "source": [
        "prime_client.exit()"
      ]
    }
  ],
  "metadata": {
    "kernelspec": {
      "display_name": "Python 3",
      "language": "python",
      "name": "python3"
    },
    "language_info": {
      "codemirror_mode": {
        "name": "ipython",
        "version": 3
      },
      "file_extension": ".py",
      "mimetype": "text/x-python",
      "name": "python",
      "nbconvert_exporter": "python",
      "pygments_lexer": "ipython3",
      "version": "3.10.13"
    }
  },
  "nbformat": 4,
  "nbformat_minor": 0
}