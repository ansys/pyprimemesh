{
  "cells": [
    {
      "cell_type": "markdown",
      "metadata": {},
      "source": [
        "\n\n# Adding a new example\n**Summary**: This example demonstrates how to add new examples and serves as a template\nthat you can use in their creation.\n\nA block comment must be included at the top of any new example. Each example\nmust have a reference tag in this format:\n\n``.. _ref_my_example:``\n\nThe ``.. _ref_`` is necessary. Everything that follows is your reference tag.\nKeep all references in `snake case`.\n\nThis section should give a brief overview of what the example is about and/or demonstrates.\nThe title should be changed to reflect the topic your example covers.\n\nNew examples should be added as Python scripts to:\n\n``pyprimemesh/examples/gallery``\n\n<div class=\"alert alert-info\"><h4>Note</h4><p>Avoid creating new folders unless absolutely necessary. If in doubt, put the example\n   in the folder closest to what it is doing and its precise location can be advised\n   on in the pull request. If you *must* create a new folder, make sure to add a\n   ``README.txt`` file containing a reference, a title, and a single sentence describing the folder.\n   Otherwise, the new folder is ignored by Sphinx.</p></div>\n\nExample file names should be in the format:\n\n``example_name.py``\n\n<div class=\"alert alert-info\"><h4>Note</h4><p>Supporting input files for the example, such as CAD or mesh file assets, must be either original\n    content or have appropriate licensing and ownership permissions from their respective owners. If\n    the input files are used within the example script provided they must be capable of running in\n    the CI pipeline. This means that only files that can be read using the native file formats and\n    CAD readers can be used in the scripted examples.</p></div>\n\nThe recommended data formats to be included in the example are:\n\n* .pmdat\n* .fmd\n* .scdoc or .dsco (supported on Windows OS)\n\nSupporting input files should be added in:\n\n[Github Example Data Repository](https://github.com/ansys/example-data/tree/master/pyprimemesh)\n\nReferencing files as enum and creating download function in:\n\n``pyprimemesh/examples.py``\n\nAlso adding download function to:\n\n``pyprimemesh/examples/__init__.py``\n\nAfter this preamble is the first code block:\n"
      ]
    },
    {
      "cell_type": "code",
      "execution_count": null,
      "metadata": {
        "collapsed": false
      },
      "outputs": [],
      "source": [
        "import ansys.meshing.prime as prime\nfrom ansys.meshing.prime.graphics import Graphics\n\n# Start Ansys Prime Server instance and get client model\nprime_client = prime.launch_prime()\nmodel = prime_client.model\n\n# Your code goes here...\nmesh_util = prime.lucid.Mesh(model=model)\n\n# For Windows OS users scdoc is also available:\n# mixing_elbow = prime.examples.download_elbow_scdoc()\nmixing_elbow = prime.examples.download_elbow_fmd()\nmesh_util.read(mixing_elbow)\nprint(model)"
      ]
    },
    {
      "cell_type": "markdown",
      "metadata": {},
      "source": [
        "## Create sections\nYou can break up code blocks in titled sections that provide descriptive text.\nWhen Sphinx is used to generate the documentation, this content is interpreted\nas ReStructured Text (RST).\n\n<div class=\"alert alert-info\"><h4>Note</h4><p></p></div>\nYou only need to create the Python (PY) files for the example. The\n``sphinx-gallery`` extension automatically generates the Jupyter\nnotebook, the HTML files for the documentation, and the demo script.\n\nSections can contain any information that you may have regarding the example,\nsuch as step-by-step comments and information on motivations. In the generated\nJupyter notebook, this text is translated into a markdown cell.\n\nAs in Jupyter notebooks, if code is left unassigned at the end of a code block\n(as with ``model`` in the previous block), the output is generated and\nprinted to the screen according to its ``__repr__``.  Otherwise, you can use\n``print()`` to output the ``__str__``.\n\n"
      ]
    },
    {
      "cell_type": "code",
      "execution_count": null,
      "metadata": {
        "collapsed": false
      },
      "outputs": [],
      "source": [
        "# more code...\nmesh_util.surface_mesh(min_size=5, max_size=20)\nmesh_util.volume_mesh(\n    volume_fill_type=prime.VolumeFillType.POLY,\n    prism_surface_expression=\"* !inlet !outlet\",\n    prism_layers=3,\n)"
      ]
    },
    {
      "cell_type": "markdown",
      "metadata": {},
      "source": [
        "## Render graphics\nIf you display graphics, the result is auto-generated and\nrendered on the page:\n\n"
      ]
    },
    {
      "cell_type": "code",
      "execution_count": null,
      "metadata": {
        "collapsed": false
      },
      "outputs": [],
      "source": [
        "display = Graphics(model)\ndisplay()"
      ]
    },
    {
      "cell_type": "markdown",
      "metadata": {},
      "source": [
        "## Make a pull request\nOnce your example is complete and you've verified builds locally, you can make a\npull request (PR).  Branches containing examples should be prefixed with `doc/`\nas per the branch-naming conventions found in the `ref_index_contributing`\ntopic in the *PyAnsys Developer's Guide*.\n\n"
      ]
    },
    {
      "cell_type": "markdown",
      "metadata": {},
      "source": [
        "## Stop Ansys Prime Server\n\n\n"
      ]
    },
    {
      "cell_type": "code",
      "execution_count": null,
      "metadata": {
        "collapsed": false
      },
      "outputs": [],
      "source": [
        "prime_client.exit()"
      ]
    }
  ],
  "metadata": {
    "kernelspec": {
      "display_name": "Python 3",
      "language": "python",
      "name": "python3"
    },
    "language_info": {
      "codemirror_mode": {
        "name": "ipython",
        "version": 3
      },
      "file_extension": ".py",
      "mimetype": "text/x-python",
      "name": "python",
      "nbconvert_exporter": "python",
      "pygments_lexer": "ipython3",
      "version": "3.10.13"
    }
  },
  "nbformat": 4,
  "nbformat_minor": 0
}