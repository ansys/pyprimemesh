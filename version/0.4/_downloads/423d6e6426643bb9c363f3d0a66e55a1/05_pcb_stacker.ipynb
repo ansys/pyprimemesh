{
  "cells": [
    {
      "cell_type": "markdown",
      "metadata": {},
      "source": [
        "\n\n# Meshing a PCB for structural thermal analysis\n\n**Summary**: This example demonstrates how to mesh a printed circuit board\nwith mainly hexahedral elements for structural thermal simulation using the volume sweeper.\n\n## Objective\nIn this example, you can mesh the solids of a printed circuit board,\nusing the volume sweeper, for a structural thermal analysis\nusing predominantly hexahedral elements.\n\n<img src=\"file://../../../images/pcb_stacker.png\" align=\"center\" width=\"800\" alt=\"Thermal structural mesh.\">\n\n## Procedure\n* Launch an Ansys Prime Server instance and connect the PyPrimeMesh client.\n* Read the CAD geometry.\n* Create a base face, projecting edge loops and imprinting to capture the geometry.\n* Surface mesh the base face with quad elements.\n* Stack the base face mesh through the volumes to create mainly hexahedral volume mesh.\n* Write the mesh for the structural thermal analysis.\n"
      ]
    },
    {
      "cell_type": "markdown",
      "metadata": {},
      "source": [
        "## Launch Ansys Prime Server\nImport all necessary modules.\nLaunch the Ansys Prime Server instance and connect the client.\nGet the client model and instantiate meshing utilities from the ``lucid`` class.\n\n"
      ]
    },
    {
      "cell_type": "code",
      "execution_count": null,
      "metadata": {
        "collapsed": false
      },
      "outputs": [],
      "source": [
        "import os\nimport tempfile\n\nimport ansys.meshing.prime as prime\nfrom ansys.meshing.prime.graphics import Graphics\n\nprime_client = prime.launch_prime()\nmodel = prime_client.model\nmesh_util = prime.lucid.Mesh(model=model)"
      ]
    },
    {
      "cell_type": "markdown",
      "metadata": {},
      "source": [
        "## Import geometry\nDownload the pcb geometry file (.pmdat).\nImport geometry.\nDisplay imported geometry.  Purple edges indicate that the geometry is\nconnected and the topology is shared between the different volumes.\nThis will mean the mesh will also be connected between volumes.\n\n"
      ]
    },
    {
      "cell_type": "code",
      "execution_count": null,
      "metadata": {
        "collapsed": false
      },
      "outputs": [],
      "source": [
        "# For Windows OS users scdoc is also available.\n# In order to read the geometry as connected with shared topology\n# the WORKBENCH cad reader route must be used:\n\n# mesh_util.read(\n#     file_name=prime.examples.download_pcb_scdoc(),\n#     cad_reader_route=prime.CadReaderRoute.WORKBENCH,\n# )\n\nmesh_util.read(file_name=prime.examples.download_pcb_pmdat())\n\ndisplay = Graphics(model)\ndisplay()\n\nsizing_params = prime.GlobalSizingParams(model=model, min=0.5, max=1.0)\nmodel.set_global_sizing_params(params=sizing_params)"
      ]
    },
    {
      "cell_type": "markdown",
      "metadata": {},
      "source": [
        "## Create base face\nDefine stacker parameters:\n\n- Set the direction vector for defining stacking.\n- Set the maximum offset size for mesh layers created by the stacker method.\n- Set the base faces to delete after stacking.\n\nCreate the base face from the part and volumes.\nDefine a label for the generated base faces and display.\nWhen coloured by ZONELET the display shows the imprints\non the base face.\n\n"
      ]
    },
    {
      "cell_type": "code",
      "execution_count": null,
      "metadata": {
        "collapsed": false
      },
      "outputs": [],
      "source": [
        "part = model.parts[0]\nsweeper = prime.VolumeSweeper(model)\n\nstacker_params = prime.MeshStackerParams(\n    model=model,\n    direction=[0, 1, 0],\n    max_offset_size=1.0,\n    delete_base=True,\n)\n\ncreatebase_results = sweeper.create_base_face(\n    part_id=part.id,\n    topo_volume_ids=part.get_topo_volumes(),\n    params=stacker_params,\n)\n\nbase_faces = createbase_results.base_face_ids\n\npart.add_labels_on_topo_entities([\"base_faces\"], base_faces)\n\nscope = prime.ScopeDefinition(model=model, label_expression=\"base_faces\")\n\ndisplay(scope=scope)"
      ]
    },
    {
      "cell_type": "markdown",
      "metadata": {},
      "source": [
        "## Surface mesh base face\nQuad surface mesh the generated base faces for stacking.\n\n"
      ]
    },
    {
      "cell_type": "code",
      "execution_count": null,
      "metadata": {
        "collapsed": false
      },
      "outputs": [],
      "source": [
        "base_scope = prime.lucid.SurfaceScope(\n    entity_expression=\"base_faces\",\n    part_expression=part.name,\n    scope_evaluation_type=prime.ScopeEvaluationType.LABELS,\n)\n\nmesh_util.surface_mesh(min_size=0.5, scope=base_scope, generate_quads=True)\n\ndisplay(scope=scope)"
      ]
    },
    {
      "cell_type": "markdown",
      "metadata": {},
      "source": [
        "## Stack base face\nCreate mainly hexahedral volume mesh using the stacker method.\nDisplay the volume mesh.\n\n"
      ]
    },
    {
      "cell_type": "code",
      "execution_count": null,
      "metadata": {
        "collapsed": false
      },
      "outputs": [],
      "source": [
        "stackbase_results = sweeper.stack_base_face(\n    part_id=part.id,\n    base_face_ids=base_faces,\n    topo_volume_ids=part.get_topo_volumes(),\n    params=stacker_params,\n)\n\ndisplay()"
      ]
    },
    {
      "cell_type": "markdown",
      "metadata": {},
      "source": [
        "## Write mesh\nWrite a CDB file.\n\n"
      ]
    },
    {
      "cell_type": "code",
      "execution_count": null,
      "metadata": {
        "collapsed": false
      },
      "outputs": [],
      "source": [
        "with tempfile.TemporaryDirectory() as temp_folder:\n    mesh_file = os.path.join(temp_folder, \"pcb.cdb\")\n    mesh_util.write(mesh_file)\n    assert os.path.exists(mesh_file)\n    print(\"\\nExported file:\\n\", mesh_file)"
      ]
    },
    {
      "cell_type": "markdown",
      "metadata": {},
      "source": [
        "## Exit PyPrimeMesh\n\n"
      ]
    },
    {
      "cell_type": "code",
      "execution_count": null,
      "metadata": {
        "collapsed": false
      },
      "outputs": [],
      "source": [
        "prime_client.exit()"
      ]
    }
  ],
  "metadata": {
    "kernelspec": {
      "display_name": "Python 3",
      "language": "python",
      "name": "python3"
    },
    "language_info": {
      "codemirror_mode": {
        "name": "ipython",
        "version": 3
      },
      "file_extension": ".py",
      "mimetype": "text/x-python",
      "name": "python",
      "nbconvert_exporter": "python",
      "pygments_lexer": "ipython3",
      "version": "3.10.13"
    }
  },
  "nbformat": 4,
  "nbformat_minor": 0
}