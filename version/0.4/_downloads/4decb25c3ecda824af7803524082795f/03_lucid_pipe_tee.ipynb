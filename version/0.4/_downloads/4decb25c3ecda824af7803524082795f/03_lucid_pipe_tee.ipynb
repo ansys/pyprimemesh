{
  "cells": [
    {
      "cell_type": "markdown",
      "metadata": {},
      "source": [
        "\n\n# Meshing a pipe T-section for structural thermal and fluid flow analysis\n\n**Summary**: This example demonstrates how to mesh a pipe T-section for both\nstructural thermal and fluid flow simulation.\n\n\n## Objective\n\nThis example meshes the solids of a pipe T-section for a\nstructural thermal analysis using tetrahedral elements and uses the\nwrapper to extract the fluid domain and mesh using polyhedral cells with\nprismatic boundary layers.\n\n.. figure:: ../../../images/pipe_tee.png\n   :align: center\n   :width: 800\n\n   **Thermal structural and fluid flow meshes**\n\n## Procedure\n\n-   Launch an Ansys Prime Server instance and connect the PyPrimeMesh client.\n-   Read the CAD geometry.\n-   Mesh for the structural thermal analysis.\n-   Write the mesh for the structural thermal analysis.\n-   Extract the fluid by wrapping.\n-   Mesh with polyhedral and prisms.\n-   Write the mesh for the fluid simulation.\n"
      ]
    },
    {
      "cell_type": "markdown",
      "metadata": {},
      "source": [
        "## Launch Ansys Prime Server\nImport all necessary modules.\nLaunch the Ansys Prime Server instance and connect the client.\nGet the client model and instantiate meshing utilities from the ``lucid`` class.\n\n"
      ]
    },
    {
      "cell_type": "code",
      "execution_count": null,
      "metadata": {
        "collapsed": false
      },
      "outputs": [],
      "source": [
        "import os\nimport tempfile\n\nimport ansys.meshing.prime.graphics as graphics\nfrom ansys.meshing import prime\nfrom ansys.meshing.prime import lucid\n\nprime_client = prime.launch_prime()\nmodel = prime_client.model\nmesh_util = lucid.Mesh(model)"
      ]
    },
    {
      "cell_type": "markdown",
      "metadata": {},
      "source": [
        "## Read CAD geometry\nDownload the example FMD geometry file.\nThe FMD  file format is exported from SpaceClaim and is compatible with Linux.\nRead and display the geometry file.\nThe file contains several unmeshed parts, which is what you would get after you\nimport from a CAD file.\nFor Windows OS users, scdoc is also available:\npipe_tee = prime.examples.download_pipe_tee_scdoc()\n\n"
      ]
    },
    {
      "cell_type": "code",
      "execution_count": null,
      "metadata": {
        "collapsed": false
      },
      "outputs": [],
      "source": [
        "pipe_tee = prime.examples.download_pipe_tee_fmd()\nmesh_util.read(pipe_tee)\n\ndisplay = graphics.Graphics(model)\ndisplay()\n\nprint(model)"
      ]
    },
    {
      "cell_type": "markdown",
      "metadata": {},
      "source": [
        "## Mesh for structural\nSurface mesh using curvature sizing.\nVolume mesh with tetrahedral elements.\nDelete unwanted capping surface geometries by deleting\nparts that do not have any volume zones.\nDisplay structural thermal mesh ready for export.\n\n"
      ]
    },
    {
      "cell_type": "code",
      "execution_count": null,
      "metadata": {
        "collapsed": false
      },
      "outputs": [],
      "source": [
        "mesh_util.surface_mesh(min_size=2.5, max_size=10)\nmesh_util.volume_mesh()\n\ntoDelete = [part.id for part in model.parts if not part.get_volume_zones()]\n\nif toDelete:\n    model.delete_parts(toDelete)\n\ndisplay = graphics.Graphics(model)\ndisplay()"
      ]
    },
    {
      "cell_type": "markdown",
      "metadata": {},
      "source": [
        "## Write structural mesh\nLabels are exported to the CDB file as components for\napplying load boundary conditions in the solver.\n\n"
      ]
    },
    {
      "cell_type": "code",
      "execution_count": null,
      "metadata": {
        "collapsed": false
      },
      "outputs": [],
      "source": [
        "with tempfile.TemporaryDirectory() as temp_folder:\n    structural_mesh = os.path.join(temp_folder, \"pipe_tee.cdb\")\n    mesh_util.write(structural_mesh)\n    print(\"\\nExported Structural Mesh: \", structural_mesh)"
      ]
    },
    {
      "cell_type": "markdown",
      "metadata": {},
      "source": [
        "## Extract fluid by wrapping\nYou can deal with the small internal diameter change between flanges in several ways:\n\n* Connect the geometry to extract a volume and refine the\n  mesh around this detail to capture.\n* Modify the geometry to remove the feature.\n* Wrap to extract the internal flow volume and walk over the feature.\n\nThis example wraps and walks over these features.\n\nRead in the geometry again.\n\nUse a constant size wrap to walk over the diameter change\nfeature and extract the largest internal volume as the fluid.\n\nBy default, the wrap uses all parts as input and deletes the input\ngeometry after wrapping unless ``keep_input`` is set as ``True``.\n\n"
      ]
    },
    {
      "cell_type": "code",
      "execution_count": null,
      "metadata": {
        "collapsed": false
      },
      "outputs": [],
      "source": [
        "mesh_util.read(pipe_tee)\n\nwrap = mesh_util.wrap(min_size=6, region_extract=prime.WrapRegion.LARGESTINTERNAL)\n\nprint(model)\n\ndisplay()"
      ]
    },
    {
      "cell_type": "markdown",
      "metadata": {},
      "source": [
        "## Volume mesh fluid\nCreate zones for each label to use for boundary condition definitions.\nVolume mesh with prism polyhedral, not growing prisms from inlets and outlets.\nVisualize the generated volume mesh.\nWhen displaying, you can avoid displaying unnecessary edge zones.\nYou can clearly see the prism layers that were specified by the Prism control.\n\n"
      ]
    },
    {
      "cell_type": "code",
      "execution_count": null,
      "metadata": {
        "collapsed": false
      },
      "outputs": [],
      "source": [
        "# set global sizing\nparams = prime.GlobalSizingParams(model, min=6, max=50)\nmodel.set_global_sizing_params(params)\n\nmesh_util.create_zones_from_labels(\"outlet_main,in1_inlet,in2_inlet\")\n\nmesh_util.volume_mesh(\n    prism_layers=5,\n    prism_surface_expression=\"* !*inlet* !*outlet*\",\n    volume_fill_type=prime.VolumeFillType.POLY,\n)\n\nprint(model)\ndisplay(update=True, scope=prime.ScopeDefinition(model=model, label_expression=\"* !*__*\"))"
      ]
    },
    {
      "cell_type": "markdown",
      "metadata": {},
      "source": [
        "## Write fluid mesh\nWrite a MSH file for the Fluent solver.\n\n"
      ]
    },
    {
      "cell_type": "code",
      "execution_count": null,
      "metadata": {
        "collapsed": false
      },
      "outputs": [],
      "source": [
        "with tempfile.TemporaryDirectory() as temp_folder:\n    fluid_mesh = os.path.join(temp_folder, \"pipe_tee.msh\")\n    mesh_util.write(fluid_mesh)\n    assert os.path.exists(fluid_mesh)\n    print(\"\\nExported Fluid Mesh: \", fluid_mesh)"
      ]
    },
    {
      "cell_type": "markdown",
      "metadata": {},
      "source": [
        "## Exit PyPrimeMesh\n\n"
      ]
    },
    {
      "cell_type": "code",
      "execution_count": null,
      "metadata": {
        "collapsed": false
      },
      "outputs": [],
      "source": [
        "prime_client.exit()"
      ]
    }
  ],
  "metadata": {
    "kernelspec": {
      "display_name": "Python 3",
      "language": "python",
      "name": "python3"
    },
    "language_info": {
      "codemirror_mode": {
        "name": "ipython",
        "version": 3
      },
      "file_extension": ".py",
      "mimetype": "text/x-python",
      "name": "python",
      "nbconvert_exporter": "python",
      "pygments_lexer": "ipython3",
      "version": "3.10.13"
    }
  },
  "nbformat": 4,
  "nbformat_minor": 0
}