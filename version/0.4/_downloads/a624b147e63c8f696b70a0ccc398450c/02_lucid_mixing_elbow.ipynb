{
  "cells": [
    {
      "cell_type": "markdown",
      "metadata": {},
      "source": [
        "\n\n# Meshing a mixing elbow for a flow analysis\n\n**Summary**: This example demonstrates how to mesh a mixing elbow for a flow analysis.\n\n## Objective\n\nThis example meshes a mixing elbow with polyhedral elements and wall boundary\nlayer refinement. You use several meshing utilities available in the ``lucid`` class for\nconvenience and ease.\n\n<img src=\"file://../../../images/elbow.png\" align=\"center\" width=\"400\" alt=\"Mixing elbow mesh.\">\n\n## Procedure\n* Launch Ansys Prime Server and instantiate meshing utilities from the ``lucid`` class.\n* Import the geometry and create face zones from labels imported from the geometry.\n* Surface mesh geometry with curvature sizing.\n* Volume mesh with polyhedral elements and boundary layer refinement.\n* Print statistics on the generated mesh.\n* Write a CAS file for use in the Fluent solver.\n* Exit the PyPrimeMesh session.\n"
      ]
    },
    {
      "cell_type": "markdown",
      "metadata": {},
      "source": [
        "## Launch Ansys Prime Server\nImport all necessary modules.\nLaunch an instance of Ansys Prime Server.\nConnect the PyPrimeMesh client and get the model.\nInstantiate meshing utilities from the ``lucid`` class.\n\n"
      ]
    },
    {
      "cell_type": "code",
      "execution_count": null,
      "metadata": {
        "collapsed": false
      },
      "outputs": [],
      "source": [
        "import os\nimport tempfile\n\nfrom ansys.meshing import prime\nfrom ansys.meshing.prime.graphics import Graphics\n\nprime_client = prime.launch_prime()\nmodel = prime_client.model\nmesh_util = prime.lucid.Mesh(model=model)"
      ]
    },
    {
      "cell_type": "markdown",
      "metadata": {},
      "source": [
        "## Import geometry\nDownload the elbow geometry (FMD) file exported by SpaceClaim.\nImport the geometry.\nCreate face zones from labels imported from the geometry for use in Fluent solver.\n\n"
      ]
    },
    {
      "cell_type": "code",
      "execution_count": null,
      "metadata": {
        "collapsed": false
      },
      "outputs": [],
      "source": [
        "# For Windows OS users, scdoc is also available:\n# mixing_elbow = prime.examples.download_elbow_scdoc()\n\nmixing_elbow = prime.examples.download_elbow_fmd()\n\nmesh_util.read(file_name=mixing_elbow)\nmesh_util.create_zones_from_labels(\"inlet,outlet\")"
      ]
    },
    {
      "cell_type": "markdown",
      "metadata": {},
      "source": [
        "## Surface mesh\nSurface mesh the geometry setting minimum and maximum sizing\nto be used for curvature refinement.\n\n"
      ]
    },
    {
      "cell_type": "code",
      "execution_count": null,
      "metadata": {
        "collapsed": false
      },
      "outputs": [],
      "source": [
        "mesh_util.surface_mesh(min_size=5, max_size=20)"
      ]
    },
    {
      "cell_type": "markdown",
      "metadata": {},
      "source": [
        "## Volume mesh\nVolume mesh with polyhedral elements and boundary layer refinement.\nFill the volume with polyhedral and prism mesh\nspecifying the location and number of layers for prisms.\nUse expressions to define the surfaces to have prisms grown\nwhere ``* !inlet !outlet`` states ``all not inlet or outlet``.\n\n"
      ]
    },
    {
      "cell_type": "code",
      "execution_count": null,
      "metadata": {
        "collapsed": false
      },
      "outputs": [],
      "source": [
        "mesh_util.volume_mesh(\n    volume_fill_type=prime.VolumeFillType.POLY,\n    prism_surface_expression=\"* !inlet !outlet\",\n    prism_layers=3,\n)\n\n# Display the mesh\ndisplay = Graphics(model=model)\ndisplay()"
      ]
    },
    {
      "cell_type": "markdown",
      "metadata": {},
      "source": [
        "## Print mesh statistics\n\n"
      ]
    },
    {
      "cell_type": "code",
      "execution_count": null,
      "metadata": {
        "collapsed": false
      },
      "outputs": [],
      "source": [
        "# Get meshed part\npart = model.get_part_by_name(\"flow_volume\")\n\n# Get statistics on the mesh\npart_summary_res = part.get_summary(prime.PartSummaryParams(model=model))\n\n# Get element quality on all parts in the model\nsearch = prime.VolumeSearch(model=model)\nparams = prime.VolumeQualitySummaryParams(\n    model=model,\n    scope=prime.ScopeDefinition(model=model, part_expression=\"*\"),\n    cell_quality_measures=[prime.CellQualityMeasure.SKEWNESS],\n    quality_limit=[0.95],\n)\nresults = search.get_volume_quality_summary(params=params)\n\n# Print statistics on meshed part\nprint(part_summary_res)\nprint(\"\\nMaximum skewness: \", results.quality_results_part[0].max_quality)"
      ]
    },
    {
      "cell_type": "markdown",
      "metadata": {},
      "source": [
        "## Write mesh\nWrite a CAS file for use in the Fluent solver.\n\n"
      ]
    },
    {
      "cell_type": "code",
      "execution_count": null,
      "metadata": {
        "collapsed": false
      },
      "outputs": [],
      "source": [
        "with tempfile.TemporaryDirectory() as temp_folder:\n    mesh_file = os.path.join(temp_folder, \"mixing_elbow.cas\")\n    mesh_util.write(mesh_file)\n    assert os.path.exists(mesh_file)\n    print(\"\\nExported file:\\n\", mesh_file)"
      ]
    },
    {
      "cell_type": "markdown",
      "metadata": {},
      "source": [
        "## Exit PyPrimeMesh\n\n"
      ]
    },
    {
      "cell_type": "code",
      "execution_count": null,
      "metadata": {
        "collapsed": false
      },
      "outputs": [],
      "source": [
        "prime_client.exit()"
      ]
    }
  ],
  "metadata": {
    "kernelspec": {
      "display_name": "Python 3",
      "language": "python",
      "name": "python3"
    },
    "language_info": {
      "codemirror_mode": {
        "name": "ipython",
        "version": 3
      },
      "file_extension": ".py",
      "mimetype": "text/x-python",
      "name": "python",
      "nbconvert_exporter": "python",
      "pygments_lexer": "ipython3",
      "version": "3.10.13"
    }
  },
  "nbformat": 4,
  "nbformat_minor": 0
}