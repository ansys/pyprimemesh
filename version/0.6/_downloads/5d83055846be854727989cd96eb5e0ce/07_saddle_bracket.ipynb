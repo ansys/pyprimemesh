{
  "cells": [
    {
      "cell_type": "markdown",
      "metadata": {},
      "source": [
        "\n\n# Mesh a saddle bracket for a structural analysis\n\n**Summary**: This example demonstrates how to mesh a thin\nsolid with hexahedral and prism cells.\n\n## Objective\n\nThis example creates a mainly hexahedral mesh on a thin solid volume.\n\n<img src=\"file://../../../images/saddle_bracket.png\" align=\"center\" width=\"400\" alt=\"Thin volume hexahedral mesh.\">\n\n## Procedure\n* Launch Ansys Prime Server.\n* Import the CAD geometry.\n* Quad surface mesh the source face.\n* Surface mesh the remaining unmeshed TopoFaces with tri surface mesh.\n* Delete the topology.\n* Define volume meshing controls to use thin volume meshing.\n* Volume mesh with hexahedral and prism cells.\n* Write a CDB file for use in the APDL solver.\n* Exit the PyPrimeMesh session.\n"
      ]
    },
    {
      "cell_type": "markdown",
      "metadata": {},
      "source": [
        "## Launch Ansys Prime Server\nImport all necessary modules.\nLaunch an instance of Ansys Prime Server.\nConnect the PyPrimeMesh client and get the model.\n\n"
      ]
    },
    {
      "cell_type": "code",
      "execution_count": null,
      "metadata": {
        "collapsed": false
      },
      "outputs": [],
      "source": [
        "import os\nimport tempfile\n\nimport ansys.meshing.prime as prime\nfrom ansys.meshing.prime.graphics import Graphics\n\nprime_client = prime.launch_prime()\nmodel = prime_client.model\ndisplay = Graphics(model=model)\n\nmesh_util = prime.lucid.Mesh(model)"
      ]
    },
    {
      "cell_type": "markdown",
      "metadata": {},
      "source": [
        "## Import geometry\nDownload the saddle bracket geometry (FMD) file exported by SpaceClaim.\nImport the geometry and display all.\n\n"
      ]
    },
    {
      "cell_type": "code",
      "execution_count": null,
      "metadata": {
        "collapsed": false
      },
      "outputs": [],
      "source": [
        "# For Windows OS users, scdoc is also available:\n# saddle_bracket = prime.examples.download_saddle_bracket_scdoc()\n\nsaddle_bracket = prime.examples.download_saddle_bracket_fmd()\n\nmesh_util.read(file_name=saddle_bracket)\n\nprint(model)\n\ndisplay = Graphics(model)\ndisplay()"
      ]
    },
    {
      "cell_type": "markdown",
      "metadata": {},
      "source": [
        "## Quad mesh source faces\nMesh the source faces for the thin volume control with quads.\n\n"
      ]
    },
    {
      "cell_type": "code",
      "execution_count": null,
      "metadata": {
        "collapsed": false
      },
      "outputs": [],
      "source": [
        "scope = prime.lucid.SurfaceScope(\n    part_expression=\"*\",\n    entity_expression=\"source_thin\",\n    scope_evaluation_type=prime.ScopeEvaluationType.LABELS,\n)\n\nmesh_util.surface_mesh(\n    scope=scope,\n    min_size=2.0,\n    generate_quads=True,\n)\n\ndisplay()"
      ]
    },
    {
      "cell_type": "markdown",
      "metadata": {},
      "source": [
        "## Surface mesh unmeshed faces\nMesh unmeshed faces with tri surface mesh.  Tri surface mesh on the target\nand side faces is used to show more clearly that the result of the thin\nvolume control is a hex mesh that is imprinted up to the side faces.\nAll quads could be used for the surface mesh to simplify the process.\n\n"
      ]
    },
    {
      "cell_type": "code",
      "execution_count": null,
      "metadata": {
        "collapsed": false
      },
      "outputs": [],
      "source": [
        "part = model.parts[0]\n\nall_faces = part.get_topo_faces()\nmeshed_faces = part.get_topo_faces_of_label_name_pattern(\n    label_name_pattern=\"source_thin\",\n    name_pattern_params=prime.NamePatternParams(model),\n)\n\nunmeshed_faces = [face for face in all_faces if face not in meshed_faces]\n\npart.add_labels_on_topo_entities(\n    labels=[\"unmeshed_faces\"],\n    topo_entities=unmeshed_faces,\n)\n\nscope = prime.lucid.SurfaceScope(\n    part_expression=\"*\",\n    entity_expression=\"unmeshed_faces\",\n    scope_evaluation_type=prime.ScopeEvaluationType.LABELS,\n)\n\nmesh_util.surface_mesh(\n    scope=scope,\n    min_size=2.0,\n)\n\ndisplay()"
      ]
    },
    {
      "cell_type": "markdown",
      "metadata": {},
      "source": [
        "## Delete topology\nDelete topology to leave only the surface mesh.  This is necessary for the\nthin volume control to be used.\n\n"
      ]
    },
    {
      "cell_type": "code",
      "execution_count": null,
      "metadata": {
        "collapsed": false
      },
      "outputs": [],
      "source": [
        "part.delete_topo_entities(\n    prime.DeleteTopoEntitiesParams(\n        model=model,\n        delete_geom_zonelets=True,\n        delete_mesh_zonelets=False,\n    )\n)"
      ]
    },
    {
      "cell_type": "markdown",
      "metadata": {},
      "source": [
        "## Define volume meshing controls\nDefine volume meshing controls to use thin volume meshing.\nSpecify source and target faces for the thin volume using imported labels.\nSet the number of layers of cells through the thickness of the thin solid to be 4.\nTo create a fully hexahedral and prism mesh the side faces must be imprinted on\nthe side faces. If needed, a buffer region at the sides of the volume can be\ndefined where the volume fill type used for the volume mesh parameters is\nused to infill. This is useful on more complex geometries, where it provides\nmore robustness of the method. To create a buffer region set ``imprint_sides``\nto ``False`` and specify how many rings of cells to ignore at the sides\nusing ``n_ignore_rings``.\n\n"
      ]
    },
    {
      "cell_type": "code",
      "execution_count": null,
      "metadata": {
        "collapsed": false
      },
      "outputs": [],
      "source": [
        "auto_mesh_params = prime.AutoMeshParams(model=model)\nthin_vol_ctrls_ids = []\nthin_vol_ctrl = model.control_data.create_thin_volume_control()\n\nthin_vol_ctrl.set_source_scope(\n    prime.ScopeDefinition(\n        model=model,\n        label_expression=\"source_thin\",\n    )\n)\n\nthin_vol_ctrl.set_target_scope(\n    prime.ScopeDefinition(\n        model=model,\n        label_expression=\"target_thin\",\n    )\n)\n\nthin_params = prime.ThinVolumeMeshParams(\n    model=model,\n    n_layers=4,\n    imprint_sides=True,\n)\n\nthin_vol_ctrl.set_thin_volume_mesh_params(thin_volume_mesh_params=thin_params)\nthin_vol_ctrls_ids.append(thin_vol_ctrl.id)\nauto_mesh_params.thin_volume_control_ids = thin_vol_ctrls_ids\nauto_mesh_params.volume_fill_type = prime.VolumeFillType.TET"
      ]
    },
    {
      "cell_type": "markdown",
      "metadata": {},
      "source": [
        "## Generate volume mesh\nVolume mesh to obtain hexahedral and prism mesh.\nPrint mesh summary.\nDisplay volume mesh.\n\n"
      ]
    },
    {
      "cell_type": "code",
      "execution_count": null,
      "metadata": {
        "collapsed": false
      },
      "outputs": [],
      "source": [
        "volume_mesh = prime.AutoMesh(model=model)\nresult_vol = volume_mesh.mesh(part_id=part.id, automesh_params=auto_mesh_params)\nprint(part.get_summary(prime.PartSummaryParams(model)))\n\ndisplay()"
      ]
    },
    {
      "cell_type": "markdown",
      "metadata": {},
      "source": [
        "## Write mesh\nWrite a CDB file for use in the MAPDL solver.\n\n"
      ]
    },
    {
      "cell_type": "code",
      "execution_count": null,
      "metadata": {
        "collapsed": false
      },
      "outputs": [],
      "source": [
        "with tempfile.TemporaryDirectory() as temp_folder:\n    mesh_file = os.path.join(temp_folder, \"saddle_bracket.cdb\")\n    mesh_util.write(mesh_file)\n    assert os.path.exists(mesh_file)\n    print(\"\\nExported file:\\n\", mesh_file)"
      ]
    },
    {
      "cell_type": "markdown",
      "metadata": {},
      "source": [
        "## Exit PyPrimeMesh\n\n"
      ]
    },
    {
      "cell_type": "code",
      "execution_count": null,
      "metadata": {
        "collapsed": false
      },
      "outputs": [],
      "source": [
        "prime_client.exit()"
      ]
    }
  ],
  "metadata": {
    "kernelspec": {
      "display_name": "Python 3",
      "language": "python",
      "name": "python3"
    },
    "language_info": {
      "codemirror_mode": {
        "name": "ipython",
        "version": 3
      },
      "file_extension": ".py",
      "mimetype": "text/x-python",
      "name": "python",
      "nbconvert_exporter": "python",
      "pygments_lexer": "ipython3",
      "version": "3.10.14"
    }
  },
  "nbformat": 4,
  "nbformat_minor": 0
}