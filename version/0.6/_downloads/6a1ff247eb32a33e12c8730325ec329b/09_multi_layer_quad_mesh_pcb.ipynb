{
  "cells": [
    {
      "cell_type": "markdown",
      "metadata": {},
      "source": [
        "\n\n# Mesh a generic PCB geometry with multiple hexa layers\n\n**Summary**: This example demonstrates how to set the base mesh size and number of\nlayers for each solid in a generic PCB geometry and then generate a mesh.\n\n## Objective\n\nThe example uses PyPrimeMesh to discretize a PCB CAD geometry by means of the\nstacker technology. You can easily set up the mesh size of the base face (xy plane\nin this example) and the number of mesh layers along the sweep direction (z axis in this example).\nThe CAD edges along the z direction are assigned with a named selection at a CAD level in Ansys\nDiscovery/SpaceClaim.\n\nThe following image provides a snapshot of the Discovery tree to help you to understand the model's\norganization. Share topology in Discovery/SpaceClaim guarantees the generation of a conformal mesh\nbetween the solids. Named selections of edges allow you to specify the number of mesh elements to\ngenerate along the sweep direction. To simplify the process and enhance convenience, this example\nuses multiple meshing utilities provided in the ``lucid`` class.\n\n<img src=\"file://../../../images/multi_layer_quad_mesh_pcb.png\" align=\"center\" width=\"800\" alt=\"Generic PCB geometry.\">\n\nThe resulting mesh with three layers per solid looks like this:\n\n<img src=\"file://../../../images/multi_layer_quad_mesh_pcb_3.png\" align=\"center\" width=\"500\" alt=\"Generic PCB geometry meshed.\">\n\n<img src=\"file://../../../images/multi_layer_quad_mesh_pcb_2.png\" align=\"center\" width=\"500\" alt=\"Generic PCB geometry meshed, zoom in.\">\n\n\n## Procedure\n-   Import the fundamental libraries that are necessary to run the script.\n-   Launch an Ansys Prime Server instance and instantiate the meshing utilities from the ``lucid``\n    class.\n-   Define the main mesh parameters, which are the base size and number of layers along the\n    sweep direction.\n-   Import the CAD geometry.\n-   Define the edge sizing along the sweep direction (based on pre-existing edges named\n    selections).\n-   Define the parameters for the volume sweeper.\n-   Set up, generate, and mesh the base face.\n-   Stack the base face along the sweep direction.\n-   Set up the zone naming before the mesh output.\n-   Write a CAS file for use in the Fluent solver.\n-   Exit the PyPrimeMesh session.\n"
      ]
    },
    {
      "cell_type": "markdown",
      "metadata": {},
      "source": [
        "## Import all necessary modules\nNotice that you must install the PyVista library to be able to run the visualization\ntools included in this script.\n\n"
      ]
    },
    {
      "cell_type": "code",
      "execution_count": null,
      "metadata": {
        "collapsed": false
      },
      "outputs": [],
      "source": [
        "import os\nimport tempfile\n\nimport ansys.meshing.prime as prime\nfrom ansys.meshing.prime.graphics import Graphics"
      ]
    },
    {
      "cell_type": "markdown",
      "metadata": {},
      "source": [
        "## Launch Prime server and instantiate the ``lucid`` class\nLaunch an instance of Ansys Prime Server.\nConnect the PyPrimeMesh client and get the model.\nInstantiate meshing utilities from the ``lucid`` class.\n\n"
      ]
    },
    {
      "cell_type": "code",
      "execution_count": null,
      "metadata": {
        "collapsed": false
      },
      "outputs": [],
      "source": [
        "prime_client = prime.launch_prime()\nmodel = prime_client.model\nmesh_util = prime.lucid.Mesh(model=model)"
      ]
    },
    {
      "cell_type": "markdown",
      "metadata": {},
      "source": [
        "## Define CAD file and mesh settings\nDefine the number of layers per solid.\nDefine the size in mm of the quad-dominant mesh on the base size.\nDefine the path to the CAD file to mesh.\nDownload the example CAD file using the ``prime.examples`` function. Otherwise,\nwrite the path to the desired CAD file on your machine. Supported file types\nare SCDOC, DSCO, and PMDB.\n\n"
      ]
    },
    {
      "cell_type": "code",
      "execution_count": null,
      "metadata": {
        "collapsed": false
      },
      "outputs": [],
      "source": [
        "# cad_file='/path/to/any/cad/file.dsco'\ncad_file = prime.examples.download_multi_layer_quad_mesh_pcb_pmdat()\nlayers_per_solid = 4  # number of hexa mesh layers in each solid\nbase_face_size = 0.5  # surface mesh size in mm on the base face\n# Chose whether to display the CAD/mesh at every stage\ndisplay_intermediate_steps = True  # Use True/False"
      ]
    },
    {
      "cell_type": "markdown",
      "metadata": {},
      "source": [
        "## Import geometry\nImport the geometry into Prime server.\nUse the Workbench ``CadReaderRoute`` to ensure that the shared topology is kept.\n\n"
      ]
    },
    {
      "cell_type": "code",
      "execution_count": null,
      "metadata": {
        "collapsed": false
      },
      "outputs": [],
      "source": [
        "mesh_util.read(file_name=cad_file)\n# Use the following command to open CAD files of these types: SCDOC, DSCO, and PMDB.\n# mesh_util.read(\n#     file_name = cad_file,\n#     cad_reader_route = prime.CadReaderRoute.WORKBENCH)"
      ]
    },
    {
      "cell_type": "markdown",
      "metadata": {},
      "source": [
        "## Display the imported CAD in a PyVista window\n\n"
      ]
    },
    {
      "cell_type": "code",
      "execution_count": null,
      "metadata": {
        "collapsed": false
      },
      "outputs": [],
      "source": [
        "if display_intermediate_steps:\n    display = Graphics(model)\n    display()"
      ]
    },
    {
      "cell_type": "markdown",
      "metadata": {},
      "source": [
        "## Define edge sizing constraints\nSet generic global sizing from 0.002mm to 2mm.\nExtract the the edge's length from the named selections, such as \"edge_1_0.50_mm\"\n(extract 0.5 mm length) or \"edge_23_0.27_mm\" (extract 0.27mm length).\nOn each edge, assign a size equal to the edge's length divided by the\npredefined number of layers per solid.\n\n"
      ]
    },
    {
      "cell_type": "code",
      "execution_count": null,
      "metadata": {
        "collapsed": false
      },
      "outputs": [],
      "source": [
        "# Set generic global sizing from 0.002mm to 2mm.\nmodel.set_global_sizing_params(prime.GlobalSizingParams(model, min=0.002, max=2.0))\nids = []\n# collect the imported geometry\npart = model.parts[0]\nfor label in part.get_labels():\n    # Check whether the named selection's name starts with the string \"edge\"\n    if label.startswith('edge'):\n        # Extract the edge's length, splitting its name at every \"_\" string\n        # Collect the second to last number\n        length = float(label.split(\"_\")[-2])  # get 0.27 from \"edge_23_0.27_mm\"\n        # Initialize a constant-size mesh control (SOFT)\n        soft_size_control = model.control_data.create_size_control(prime.SizingType.SOFT)\n        # Assign a mesh size equal to the edge's length/number of mesh layers\n        soft_size_params = prime.SoftSizingParams(model=model, max=length / layers_per_solid)\n        # Finalize the creation of mesh sizing\n        soft_size_control.set_soft_sizing_params(soft_size_params)\n        soft_size_scope = prime.ScopeDefinition(\n            model,\n            part_expression=part.name,\n            entity_type=prime.ScopeEntity.FACEANDEDGEZONELETS,\n            label_expression=label + \"*\",\n        )\n        soft_size_control.set_scope(soft_size_scope)\n        soft_size_control.set_suggested_name(label)\n        # Append the id of the edge sizing to the edge sizings' ids' list\n        ids.append(soft_size_control.id)"
      ]
    },
    {
      "cell_type": "markdown",
      "metadata": {},
      "source": [
        "## Define controls for volume sweeper\nSet the sweep direction vector.\nSet up the geometric tolerances for lateral and stacking defeature.\nSelect the sweep direction as the z axis (0,0,1).\nAppend the IDs of the soft local sizings that have been previously defined on\nthe edges.\n\n"
      ]
    },
    {
      "cell_type": "code",
      "execution_count": null,
      "metadata": {
        "collapsed": false
      },
      "outputs": [],
      "source": [
        "# Instantiate the volume sweeper\nsweeper = prime.VolumeSweeper(model)\n# Define the parameters for stacker\nstacker_params = prime.MeshStackerParams(\n    model=model,\n    direction=[0, 0, 1],  # define the sweep direction for the mesh\n    delete_base=True,  # delete the base face in the end of stacker\n    lateral_defeature_tolerance=0.001,\n    stacking_defeature_tolerance=0.001,\n    size_control_ids=ids,\n)  # list of control IDs to be respected by the stacker"
      ]
    },
    {
      "cell_type": "markdown",
      "metadata": {},
      "source": [
        "## Set up, generate, and mesh the base face\nCreate a soft sizing control.\nAssign the previously defined ``base_face_size`` function to the soft sizing.\nCreate the base face.\nMesh the base face.\nDisplay the base face.\n\n"
      ]
    },
    {
      "cell_type": "code",
      "execution_count": null,
      "metadata": {
        "collapsed": false
      },
      "outputs": [],
      "source": [
        "# Set up the necessary parameters for the generation of the base face.\nsoft_size_control = model.control_data.create_size_control(prime.SizingType.SOFT)\nsoft_size_params = prime.SoftSizingParams(model=model, max=base_face_size)\nsoft_size_control.set_soft_sizing_params(soft_size_params)\nsoft_size_scope = prime.ScopeDefinition(\n    model, part_expression=part.name, entity_type=prime.ScopeEntity.FACEANDEDGEZONELETS\n)\nsoft_size_control.set_scope(soft_size_scope)\nsoft_size_control.set_suggested_name(\"b_f_size\")\n\n# Create the base face, appending the the stacker mesh parameters.\ncreatebase_results = sweeper.create_base_face(\n    part_id=model.get_part_by_name(part.name).id,\n    topo_volume_ids=model.get_part_by_name(part.name).get_topo_volumes(),\n    params=stacker_params,\n)\nbase_faces = createbase_results.base_face_ids\nmodel.get_part_by_name(part.name).add_labels_on_topo_entities([\"base_faces\"], base_faces)\nscope = prime.ScopeDefinition(model=model, label_expression=\"base_faces\")\nbase_scope = prime.lucid.SurfaceScope(\n    entity_expression=\"base_faces\",\n    part_expression=part.name,\n    scope_evaluation_type=prime.ScopeEvaluationType.LABELS,\n)\n\n# Generate the quad-dominant surface mesh on the base face.\nmesh_util_controls = mesh_util.surface_mesh_with_size_controls(\n    size_control_names=\"b_f_size\", scope=base_scope, generate_quads=True\n)"
      ]
    },
    {
      "cell_type": "markdown",
      "metadata": {},
      "source": [
        "## Display the meshed base face in a PyVista window\n\n"
      ]
    },
    {
      "cell_type": "code",
      "execution_count": null,
      "metadata": {
        "collapsed": false
      },
      "outputs": [],
      "source": [
        "if display_intermediate_steps:\n    display()"
      ]
    },
    {
      "cell_type": "markdown",
      "metadata": {},
      "source": [
        "## Stack the base face using the volume sweeper\nUse the volume sweeper to stack the base face along the previously defined sweep\ndirection.\nInclude the previously defined stacker parameters.\nDisplay the final volume mesh.\n\n"
      ]
    },
    {
      "cell_type": "code",
      "execution_count": null,
      "metadata": {
        "collapsed": false
      },
      "outputs": [],
      "source": [
        "# Use the ``stack_base_face`` function to generate the volume mesh\nstackbase_results = sweeper.stack_base_face(\n    part_id=model.get_part_by_name(part.name).id,\n    base_face_ids=base_faces,\n    topo_volume_ids=model.get_part_by_name(part.name).get_topo_volumes(),\n    params=stacker_params,\n)"
      ]
    },
    {
      "cell_type": "markdown",
      "metadata": {},
      "source": [
        "## Display the final PCB mesh in a PyVista window\n\n"
      ]
    },
    {
      "cell_type": "code",
      "execution_count": null,
      "metadata": {
        "collapsed": false
      },
      "outputs": [],
      "source": [
        "if display_intermediate_steps:\n    display()"
      ]
    },
    {
      "cell_type": "markdown",
      "metadata": {},
      "source": [
        "## Set up the zone naming before the mesh output\nDelete the unnecessary topo entities.\nName the walls of ``solid`` as ``wall_solid``. For example, if the solid's name is ``A``, then\nname the walls surrounding the solid ``wall_A``).\nConvert the labels to mesh zones.\n\n"
      ]
    },
    {
      "cell_type": "code",
      "execution_count": null,
      "metadata": {
        "collapsed": false
      },
      "outputs": [],
      "source": [
        "# Define deletion parameters\ndeletion_params = prime.DeleteTopoEntitiesParams(\n    model, delete_geom_zonelets=True, delete_mesh_zonelets=False\n)\n# Delete unnecessary geometrical entities.\npart.delete_topo_entities(deletion_params)\n# Rename the walls surrounding any volume of the mesh by appending the string\n# ``wall_`` to the solid's name. For example, if the solid is named ``my_solid``, then\n# name the walls surrounding the solid ``wall_my_solid``.\nfor volume in part.get_volumes():\n    volume_zone_name = \"wall_\" + model.get_zone_name(part.get_volume_zone_of_volume(volume))\n    label_zonelets = part.get_face_zonelets_of_volumes([volume])\n    part.add_labels_on_zonelets([volume_zone_name], label_zonelets)\n# Convert labels into mesh zones to use in the solver.\nmesh_util_create_zones = mesh_util.create_zones_from_labels()"
      ]
    },
    {
      "cell_type": "markdown",
      "metadata": {},
      "source": [
        "## Mesh output\nCreate a temporary folder and use it to output the mesh to a CAS file.\n\n"
      ]
    },
    {
      "cell_type": "code",
      "execution_count": null,
      "metadata": {
        "collapsed": false
      },
      "outputs": [],
      "source": [
        "with tempfile.TemporaryDirectory() as temp_folder:\n    mesh_file = os.path.join(temp_folder, 'multi_layer_quad_mesh_pcb.cas')\n    mesh_util.write(mesh_file)\n    assert os.path.exists(mesh_file)\n    print(\"\\nExported file:\\n\", mesh_file)\n# Otherwise, specify a path on your local machine:\n# mesh_util.write('local/path/to/your/mesh_file.cas')"
      ]
    },
    {
      "cell_type": "markdown",
      "metadata": {},
      "source": [
        "## Exit PyPrimeMesh\n\n"
      ]
    },
    {
      "cell_type": "code",
      "execution_count": null,
      "metadata": {
        "collapsed": false
      },
      "outputs": [],
      "source": [
        "prime_client.exit()"
      ]
    }
  ],
  "metadata": {
    "kernelspec": {
      "display_name": "Python 3",
      "language": "python",
      "name": "python3"
    },
    "language_info": {
      "codemirror_mode": {
        "name": "ipython",
        "version": 3
      },
      "file_extension": ".py",
      "mimetype": "text/x-python",
      "name": "python",
      "nbconvert_exporter": "python",
      "pygments_lexer": "ipython3",
      "version": "3.10.14"
    }
  },
  "nbformat": 4,
  "nbformat_minor": 0
}