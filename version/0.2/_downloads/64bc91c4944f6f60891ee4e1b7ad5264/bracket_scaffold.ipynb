{
  "cells": [
    {
      "cell_type": "code",
      "execution_count": null,
      "metadata": {
        "collapsed": false
      },
      "outputs": [],
      "source": [
        "%matplotlib inline"
      ]
    },
    {
      "cell_type": "markdown",
      "metadata": {},
      "source": [
        "\n\n# Meshing a Mid-Surfaced Bracket for a Structural Analysis\n\n**Summary**: This example illustrates how to use topology based connection\nto generate conformal surface mesh.\n\n## Objective\n\nTo create conformal surface mesh,you can scaffold topofaces, topoedges or both to\nconnect all the surface bodies and mesh the bracket with quad elements.\n\n<img src=\"file://../../../images/bracket_mid_surface_scaffold_w.png\" align=\"center\" width=\"400\" alt=\"Scaffolding result in a wireframe representation.\">\n\n## Procedure\n* Launch Ansys Prime Server\n* Import CAD geometry and create part per CAD model\n* Scaffold topofaces and topoedges with tolerance parameter\n* Surface mesh topofaces with constant size and generate quad elements\n* Write a cdb file for use in the APDL solver\n* Exit the PyPrimeMesh session\n"
      ]
    },
    {
      "cell_type": "markdown",
      "metadata": {},
      "source": [
        "## Launch Ansys Prime Server\n. Import all necessary modules.\n\n"
      ]
    },
    {
      "cell_type": "code",
      "execution_count": null,
      "metadata": {
        "collapsed": false
      },
      "outputs": [],
      "source": [
        "# . Launch an instance of Ansys Prime Server.\n\n# . Connect PyPrimeMesh client and get the model.\n\nfrom ansys.meshing import prime\nimport os, tempfile\nfrom ansys.meshing.prime.graphics import Graphics\n\nprime_client = prime.launch_prime()\nmodel = prime_client.model"
      ]
    },
    {
      "cell_type": "markdown",
      "metadata": {},
      "source": [
        "## Import CAD geometry\n. Download the bracket geometry file(.fmd file exported by SpaceClaim).\n\n"
      ]
    },
    {
      "cell_type": "code",
      "execution_count": null,
      "metadata": {
        "collapsed": false
      },
      "outputs": [],
      "source": [
        "# . Import CAD geometry.\n\n# . Create part per CAD model for topology based connection.\n\nbracket_file = prime.examples.download_bracket_fmd()\n\nfile_io = prime.FileIO(model)\nfile_io.import_cad(\n    file_name=bracket_file,\n    params=prime.ImportCadParams(\n        model=model,\n        length_unit=prime.LengthUnit.MM,\n        part_creation_type=prime.PartCreationType.MODEL,\n    ),\n)"
      ]
    },
    {
      "cell_type": "markdown",
      "metadata": {},
      "source": [
        "## Review the part\n. Get the part summary.\n\n"
      ]
    },
    {
      "cell_type": "code",
      "execution_count": null,
      "metadata": {
        "collapsed": false
      },
      "outputs": [],
      "source": [
        "# . Display the model to show edges by connection.\n\n# . Use keyboard shortcuts to switch between\n# surface (s) and wireframe (w) representation.\n\n# . Colour code for edge connectivity -\n# Red: free; Black: double; Purple: triple.\n\npart = model.get_part_by_name('bracket_mid_surface-3')\npart_summary_res = part.get_summary(prime.PartSummaryParams(model, print_mesh=False))\nprint(part_summary_res)\n\ndisplay = Graphics(model=model)\ndisplay()"
      ]
    },
    {
      "cell_type": "markdown",
      "metadata": {},
      "source": [
        "## Connection\n. Initialize connection tolerance\n(which is smaller than target element size) and other parameters.\n\n"
      ]
    },
    {
      "cell_type": "code",
      "execution_count": null,
      "metadata": {
        "collapsed": false
      },
      "outputs": [],
      "source": [
        "# . Scaffold topofaces, topoedges or both with connection parameters.\n\n# target element size\nelement_size = 0.5\n\nparams = prime.ScaffolderParams(\n    model,\n    absolute_dist_tol=0.1 * element_size,\n    intersection_control_mask=prime.IntersectionMask.FACEFACEANDEDGEEDGE,\n    constant_mesh_size=element_size,\n)\n\n# Get existing topoface or topoedge ids\nfaces = part.get_topo_faces()\nbeams = []\n\nscaffold_res = prime.Scaffolder(model, part.id).scaffold_topo_faces_and_beams(\n    topo_faces=faces, topo_beams=beams, params=params\n)\nprint(scaffold_res)"
      ]
    },
    {
      "cell_type": "markdown",
      "metadata": {},
      "source": [
        "## Surface mesh\n. Initialize surface meshing parameters.\n\n"
      ]
    },
    {
      "cell_type": "code",
      "execution_count": null,
      "metadata": {
        "collapsed": false
      },
      "outputs": [],
      "source": [
        "# . Mesh topofaces with constant size and generate quad elements.\n\nsurfer_params = prime.SurferParams(\n    model=model,\n    size_field_type=prime.SizeFieldType.CONSTANT,\n    constant_size=element_size,\n    generate_quads=True,\n)\n\nsurfer_result = prime.Surfer(model).mesh_topo_faces(part.id, topo_faces=faces, params=surfer_params)\n\n# Display the mesh\ndisplay = Graphics(model=model)\ndisplay()"
      ]
    },
    {
      "cell_type": "markdown",
      "metadata": {},
      "source": [
        "## Write mesh\nWrite a cdb file for use in the APDL solver.\n\n"
      ]
    },
    {
      "cell_type": "code",
      "execution_count": null,
      "metadata": {
        "collapsed": false
      },
      "outputs": [],
      "source": [
        "with tempfile.TemporaryDirectory() as temp_folder:\n    mapdl_cdb = os.path.join(temp_folder, 'bracket_scaffold.cdb')\n    file_io.export_mapdl_cdb(mapdl_cdb, params=prime.ExportMapdlCdbParams(model))\n    assert os.path.exists(mapdl_cdb)\n    print(f'MAPDL case exported at {mapdl_cdb}')"
      ]
    },
    {
      "cell_type": "markdown",
      "metadata": {},
      "source": [
        "## Exit the PyPrimeMesh session\n\n"
      ]
    },
    {
      "cell_type": "code",
      "execution_count": null,
      "metadata": {
        "collapsed": false
      },
      "outputs": [],
      "source": [
        "prime_client.exit()"
      ]
    }
  ],
  "metadata": {
    "kernelspec": {
      "display_name": "Python 3",
      "language": "python",
      "name": "python3"
    },
    "language_info": {
      "codemirror_mode": {
        "name": "ipython",
        "version": 3
      },
      "file_extension": ".py",
      "mimetype": "text/x-python",
      "name": "python",
      "nbconvert_exporter": "python",
      "pygments_lexer": "ipython3",
      "version": "3.9.16"
    }
  },
  "nbformat": 4,
  "nbformat_minor": 0
}