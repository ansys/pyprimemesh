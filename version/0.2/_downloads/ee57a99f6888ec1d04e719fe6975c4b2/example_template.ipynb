{
  "cells": [
    {
      "cell_type": "code",
      "execution_count": null,
      "metadata": {
        "collapsed": false
      },
      "outputs": [],
      "source": [
        "%matplotlib inline"
      ]
    },
    {
      "cell_type": "markdown",
      "metadata": {},
      "source": [
        "\n\n# Adding a New Gallery Example\nThis example demonstrates how to add new examples as well as being a template that can\nbe used in their creation.\n\nThis block comment should be included at the top of any new example. Each example\nshould have a reference tag/key in the form:\n\n``.. _ref_my_example:``\n\nThe ``.. _ref_`` is necessary. Everything that follows is your reference tag. As\nconvention, we keep all references all in ``snake_case``.\n\nThis section should give a brief overview of what the example is about and/or demonstrates.\nThe title should be changed to reflect the topic your example covers.\n\nNew examples should be added as python scripts to:\n\n``pyprimemesh/examples/gallery``\n\n<div class=\"alert alert-info\"><h4>Note</h4><p>Avoid creating new folders unless absolutely necessary. If in doubt put the example\n   in the folder closest to what it is doing and its precise location can be advised\n   on in the pull request. If you *must* create a new folder, make sure to add a\n   ``README.txt`` containing a reference, a title and a single sentence description of the folder.\n   Otherwise the new folder will be ignored by Sphinx.</p></div>\n\nExample file names should be in the format:\n\n``example_name.py``\n\nAfter this preamble is complete, the first code block begins.\n"
      ]
    },
    {
      "cell_type": "code",
      "execution_count": null,
      "metadata": {
        "collapsed": false
      },
      "outputs": [],
      "source": [
        "import ansys.meshing.prime as prime\nfrom ansys.meshing.prime.graphics import Graphics\n\n# start Ansys Prime Server and get client model\nprime_client = prime.launch_prime()\nmodel = prime_client.model\n\n# Your code goes here...\nmesh_util = prime.lucid.Mesh(model=model)\nexample_file = prime.examples.download_elbow_fmd()\nmesh_util.read(example_file)\nprint(model)"
      ]
    },
    {
      "cell_type": "markdown",
      "metadata": {},
      "source": [
        "## Section Title\nCode blocks can be broken up with text \"sections\" which are interpreted as\nrestructured text.\n\nThis will also be translated into a markdown cell in the generated jupyter notebook.\nSections can contain any information you may have regarding the example\nsuch as step-by-step comments or notes regarding motivations etc.\n\nAs in jupyter notebooks, if code is left unassigned at the end of a code block\n(as with ``model`` in the previous block) the output will be generated and\nprinted to the screen according to its ``__repr__``.  Otherwise, you can use\n``print()`` to output the ``__str__``.\n\n"
      ]
    },
    {
      "cell_type": "code",
      "execution_count": null,
      "metadata": {
        "collapsed": false
      },
      "outputs": [],
      "source": [
        "# more code...\nmesh_util.surface_mesh(min_size=5, max_size=20)\nmesh_util.volume_mesh(\n    volume_fill_type=prime.VolumeFillType.POLY,\n    prism_surface_expression=\"* !inlet !outlet\",\n    prism_layers=3,\n)"
      ]
    },
    {
      "cell_type": "markdown",
      "metadata": {},
      "source": [
        "## Rendering graphics\nIf you display graphics the result will be auto-generated and\nrendered in the page. Like so:\n\n"
      ]
    },
    {
      "cell_type": "code",
      "execution_count": null,
      "metadata": {
        "collapsed": false
      },
      "outputs": [],
      "source": [
        "display = Graphics(model)\ndisplay()"
      ]
    },
    {
      "cell_type": "markdown",
      "metadata": {},
      "source": [
        "## Making a Pull Request\nOnce your example is complete and you've verified builds locally, you can make a\npull request (PR).  Branches containing examples should be prefixed with `doc/`\nas per the branch naming conventions found here: `contributing`.\n\nNote that you only need to create the python source example (.py).  The jupyter\nnotebook, the example html and the demo script will all be auto-generated via ``sphinx-gallery``.\n\n"
      ]
    },
    {
      "cell_type": "markdown",
      "metadata": {},
      "source": [
        "## Stopping Ansys Prime Server\n\n\n"
      ]
    },
    {
      "cell_type": "code",
      "execution_count": null,
      "metadata": {
        "collapsed": false
      },
      "outputs": [],
      "source": [
        "prime_client.exit()"
      ]
    }
  ],
  "metadata": {
    "kernelspec": {
      "display_name": "Python 3",
      "language": "python",
      "name": "python3"
    },
    "language_info": {
      "codemirror_mode": {
        "name": "ipython",
        "version": 3
      },
      "file_extension": ".py",
      "mimetype": "text/x-python",
      "name": "python",
      "nbconvert_exporter": "python",
      "pygments_lexer": "ipython3",
      "version": "3.9.16"
    }
  },
  "nbformat": 4,
  "nbformat_minor": 0
}