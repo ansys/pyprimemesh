{
  "cells": [
    {
      "cell_type": "code",
      "execution_count": null,
      "metadata": {
        "collapsed": false
      },
      "outputs": [],
      "source": [
        "%matplotlib inline"
      ]
    },
    {
      "cell_type": "markdown",
      "metadata": {},
      "source": [
        "\n\n# Wrapping a Toy Car for a Flow Analysis\n\n**Summary**: This example illustrates how to wrap a toy car for a flow analysis.\n\n## Objective\nIn this example, we will wrap a toy car and volume mesh with a tetrahedral mesh with prisms.\nWe will use several meshing utilities available in the lucid class for convenience and ease.\n\n<img src=\"file://../../../images/toy_car.png\" align=\"center\" width=\"400\" alt=\"Toy car wrap.\">\n\n## Procedure\n* Launch Ansys Prime Server instance and instantiate meshing utilities from lucid class.\n* Import geometry.\n* Coarse wrap parts with holes to cleanup.\n* Extract fluid region using wrapper.\n* Check wrap surface is closed and suitable quality.\n* Mesh only fluid with tetrahedral elements and boundary layer refinement.\n* Create face zones from labels imported from geometry.\n* Print statistics on generated mesh.\n* Improve mesh quality.\n* Write a cas file for use in the Fluent solver.\n* Exit the PyPrimeMesh session.\n"
      ]
    },
    {
      "cell_type": "markdown",
      "metadata": {},
      "source": [
        "## Launch Ansys Prime Server\nImport all necessary modules and launch an instance of Ansys Prime Server.\nFrom the PyPrimeMesh client get the model.\nInstantiate meshing utilities from lucid class.\n\n"
      ]
    },
    {
      "cell_type": "code",
      "execution_count": null,
      "metadata": {
        "collapsed": false
      },
      "outputs": [],
      "source": [
        "import ansys.meshing.prime as prime\nfrom ansys.meshing.prime.graphics import Graphics\nimport os, tempfile\n\nprime_client = prime.launch_prime()\nmodel = prime_client.model\ndisplay = Graphics(model=model)\n\nmesh_util = prime.lucid.Mesh(model)"
      ]
    },
    {
      "cell_type": "markdown",
      "metadata": {},
      "source": [
        "## Import Geometry\nDownload the toy car geometry file (.fmd file exported by SpaceClaim).\nImport geometry and display everything except tunnel.\n\n"
      ]
    },
    {
      "cell_type": "code",
      "execution_count": null,
      "metadata": {
        "collapsed": false
      },
      "outputs": [],
      "source": [
        "toy_car = prime.examples.download_toy_car_fmd()\n\nmesh_util.read(file_name=toy_car)\n\nscope = prime.ScopeDefinition(model, part_expression=\"* !*tunnel*\")\ndisplay(scope=scope)"
      ]
    },
    {
      "cell_type": "markdown",
      "metadata": {},
      "source": [
        "## Close Holes\nSeveral parts are open surfaces (with holes).\nCoarse wrap to close holes and delete originals.\nWe could use leakage detection to close these regions.\nHere we use a coarse wrap and disable feature edge refinement to walk over the holes.\nAs this is not the final wrap we do not need to remesh after the wrap.\nWrapping each object in turn we avoid the coarse wrap bridging across narrow gaps.\n\n"
      ]
    },
    {
      "cell_type": "code",
      "execution_count": null,
      "metadata": {
        "collapsed": false
      },
      "outputs": [],
      "source": [
        "coarse_wrap = {\"cabin\": 1.5, \"exhaust\": 0.6, \"engine\": 1.5}\n\nfor part_name in coarse_wrap:\n    # Each open part before wrap\n    display(scope=prime.ScopeDefinition(model, part_expression=part_name))\n    closed_part = mesh_util.wrap(\n        input_parts=part_name,\n        max_size=coarse_wrap[part_name],\n        remesh_postwrap=False,\n        enable_feature_octree_refinement=False,\n    )\n    # Closed part with no hole\n    display(scope=prime.ScopeDefinition(model, part_expression=closed_part.name))"
      ]
    },
    {
      "cell_type": "markdown",
      "metadata": {},
      "source": [
        "## Extract Fluid using Wrapper\nWrap full model and extract largest internal region as the fluid.\nCreate edges at intersecting regions to improve quality.\nRefining mesh to avoid contact between different parts.\nThe new wrap object replaces all original geometry unless \"keep_input\"\nis set to TRUE.  Volumes are generated from the wrap for use later.\n\n"
      ]
    },
    {
      "cell_type": "code",
      "execution_count": null,
      "metadata": {
        "collapsed": false
      },
      "outputs": [],
      "source": [
        "wrap_part = mesh_util.wrap(\n    min_size=0.1,\n    max_size=2.0,\n    region_extract=prime.WrapRegion.LARGESTINTERNAL,\n    create_intersection_loops=True,\n    contact_prevention_size=0.1,\n)\n\nprint(model)"
      ]
    },
    {
      "cell_type": "markdown",
      "metadata": {},
      "source": [
        "## Check Wrap\nCheck wrap surface is closed and suitable quality to use as surface mesh.\n\n"
      ]
    },
    {
      "cell_type": "code",
      "execution_count": null,
      "metadata": {
        "collapsed": false
      },
      "outputs": [],
      "source": [
        "scope = prime.ScopeDefinition(model=model, part_expression=wrap_part.name)\ndiag = prime.SurfaceSearch(model)\n\ndiag_params = prime.SurfaceDiagnosticSummaryParams(\n    model,\n    scope=scope,\n    compute_free_edges=True,\n    compute_multi_edges=True,\n    compute_self_intersections=True,\n)\n\ndiag_res = diag.get_surface_diagnostic_summary(diag_params)\n\nprint('Number of free edges', diag_res.n_free_edges)\nprint('Number of multi edges', diag_res.n_multi_edges)\nprint('Number of self intersections', diag_res.n_self_intersections)\n\nface_quality_measures = [prime.FaceQualityMeasure.SKEWNESS, prime.FaceQualityMeasure.ASPECTRATIO]\nquality_params = prime.SurfaceQualitySummaryParams(\n    model=model, scope=scope, face_quality_measures=face_quality_measures, quality_limit=[0.9, 20]\n)\n\nquality = prime.SurfaceSearch(model)\nqual_summary_res = quality.get_surface_quality_summary(quality_params)\n\nfor summary_res in qual_summary_res.quality_results:\n    print(\"\\nMax value of \", summary_res.measure_name, \": \", summary_res.max_quality)\n    print(\"Faces above limit: \", summary_res.n_found)"
      ]
    },
    {
      "cell_type": "markdown",
      "metadata": {},
      "source": [
        "## Create Zones\nCreate face zones from labels imported from geometry that can be used\nin the solver to define boundary conditions.\nIf specifying individual labels to create zones the order is important.\nLast label in the list will win.\nProviding no label_expression will flatten all labels into zones.\nFor example, if \"LabelA\" and \"LabelB\" are overlapping three zones will\nbe created; \"LabelA\", \"LabelB\" and \"LabelA_LabelB\".\n\n"
      ]
    },
    {
      "cell_type": "code",
      "execution_count": null,
      "metadata": {
        "collapsed": false
      },
      "outputs": [],
      "source": [
        "mesh_util.create_zones_from_labels()\n\nprint(model)"
      ]
    },
    {
      "cell_type": "markdown",
      "metadata": {},
      "source": [
        "## Volume Mesh\nMesh only fluid volume with tetrahedral elements and boundary layer refinement.\nNot meshing other volumetric regions.\nVolume zones exist already for volume meshing and passing to the solver.\nThe largest face zonelet is used by default to define volume zone names at creation.\nAfter volume meshing we can see we have a cell zonelet in the part summary.\n\n"
      ]
    },
    {
      "cell_type": "code",
      "execution_count": null,
      "metadata": {
        "collapsed": false
      },
      "outputs": [],
      "source": [
        "volume = prime.lucid.VolumeScope(\n    part_expression=wrap_part.name,\n    entity_expression=\"tunnel*\",\n    scope_evaluation_type=prime.ScopeEvaluationType.ZONES,\n)\n\n# using expressions to define which surfaces to grow inflation layers from\nmesh_util.volume_mesh(\n    scope=volume,\n    prism_layers=3,\n    prism_surface_expression=\"*cabin*,*component*,*engine*,*exhaust*,*ground*,*outer*,*wheel*\",\n    prism_volume_expression=\"tunnel*\",\n)\n\nscope = prime.ScopeDefinition(\n    model,\n    label_expression=\"*cabin*,*component*,*engine*,*exhaust*,*ground*,*outer*,*wheel*,*outlet*\",\n)\n\ndisplay(update=True, scope=scope)\n\nprint(model)"
      ]
    },
    {
      "cell_type": "markdown",
      "metadata": {},
      "source": [
        "## Print Mesh Stats\nPrint statistics on generated mesh.\n\n"
      ]
    },
    {
      "cell_type": "code",
      "execution_count": null,
      "metadata": {
        "collapsed": false
      },
      "outputs": [],
      "source": [
        "vtool = prime.VolumeMeshTool(model=model)\nresult = vtool.check_mesh(part_id=wrap_part.id, params=prime.CheckMeshParams(model=model))\n\nprint(\"Non positive volumes:\", result.has_non_positive_volumes)\nprint(\"Non positive areas:\", result.has_non_positive_areas)\nprint(\"Invalid shape:\", result.has_invalid_shape)\nprint(\"Left handed faces:\", result.has_left_handed_faces)\n\nquality = prime.VolumeSearch(model)\nscope = prime.ScopeDefinition(model, part_expression=wrap_part.name)\n\npart_summary_res = wrap_part.get_summary(\n    prime.PartSummaryParams(model=model, print_id=False, print_mesh=True)\n)\n\nprint(\"\\nNo. of cells : \", part_summary_res.n_cells)\n\nqual_summary_res = quality.get_volume_quality_summary(\n    prime.VolumeQualitySummaryParams(\n        model=model,\n        scope=scope,\n        cell_quality_measures=[prime.CellQualityMeasure.SKEWNESS],\n        quality_limit=[0.95],\n    )\n)\n\nfor summary_res in qual_summary_res.quality_results_part:\n    print(\"\\nMax value of \", summary_res.measure_name, \": \", summary_res.max_quality)\n    print(\"Cells above limit: \", summary_res.n_found)"
      ]
    },
    {
      "cell_type": "markdown",
      "metadata": {},
      "source": [
        "## Improve Quality\nMesh quality is poor.  We can use Auto-Node Move to improve the mesh.\n\n"
      ]
    },
    {
      "cell_type": "code",
      "execution_count": null,
      "metadata": {
        "collapsed": false
      },
      "outputs": [],
      "source": [
        "improve = prime.VolumeMeshTool(model=model)\nparams = prime.AutoNodeMoveParams(\n    model=model,\n    quality_measure=prime.CellQualityMeasure.SKEWNESS,\n    target_quality=0.95,\n    dihedral_angle=90,\n    n_iterations_per_node=50,\n    restrict_boundary_nodes_along_surface=True,\n    n_attempts=10,\n)\n\nimprove.improve_by_auto_node_move(\n    part_id=wrap_part.id,\n    cell_zonelets=wrap_part.get_cell_zonelets(),\n    boundary_zonelets=wrap_part.get_face_zonelets(),\n    params=params,\n)\n\nresult = vtool.check_mesh(part_id=wrap_part.id, params=prime.CheckMeshParams(model=model))\n\nprint(\"Non positive volumes:\", result.has_non_positive_volumes)\nprint(\"Non positive areas:\", result.has_non_positive_areas)\nprint(\"Invalid shape:\", result.has_invalid_shape)\nprint(\"Left handed faces:\", result.has_left_handed_faces)\n\nqual_summary_res = quality.get_volume_quality_summary(\n    prime.VolumeQualitySummaryParams(\n        model=model,\n        scope=scope,\n        cell_quality_measures=[prime.CellQualityMeasure.SKEWNESS],\n        quality_limit=[0.95],\n    )\n)\n\nfor summary_res in qual_summary_res.quality_results_part:\n    print(\"\\nMax value of \", summary_res.measure_name, \": \", summary_res.max_quality)\n    print(\"Cells above limit: \", summary_res.n_found)"
      ]
    },
    {
      "cell_type": "markdown",
      "metadata": {},
      "source": [
        "## Write Mesh\nWrite a cas file for use in the Fluent solver.\n\n"
      ]
    },
    {
      "cell_type": "code",
      "execution_count": null,
      "metadata": {
        "collapsed": false
      },
      "outputs": [],
      "source": [
        "with tempfile.TemporaryDirectory() as temp_folder:\n    mesh_file = os.path.join(temp_folder, \"toy_car_lucid.cas\")\n    mesh_util.write(mesh_file)\n    assert os.path.exists(mesh_file)\n    print(\"\\nExported file:\\n\", mesh_file)"
      ]
    },
    {
      "cell_type": "markdown",
      "metadata": {},
      "source": [
        "## Exit PyPrimeMesh\n\n"
      ]
    },
    {
      "cell_type": "code",
      "execution_count": null,
      "metadata": {
        "collapsed": false
      },
      "outputs": [],
      "source": [
        "prime_client.exit()"
      ]
    }
  ],
  "metadata": {
    "kernelspec": {
      "display_name": "Python 3",
      "language": "python",
      "name": "python3"
    },
    "language_info": {
      "codemirror_mode": {
        "name": "ipython",
        "version": 3
      },
      "file_extension": ".py",
      "mimetype": "text/x-python",
      "name": "python",
      "nbconvert_exporter": "python",
      "pygments_lexer": "ipython3",
      "version": "3.9.16"
    }
  },
  "nbformat": 4,
  "nbformat_minor": 0
}